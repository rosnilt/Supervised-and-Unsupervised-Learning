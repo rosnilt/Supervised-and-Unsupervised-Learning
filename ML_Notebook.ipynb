{
 "cells": [
  {
   "cell_type": "markdown",
   "metadata": {},
   "source": [
    "___\n",
    "> ℹ️ **NOTE:** This project is associated with the GitHub repository *FAI23_G08* and can be consulted through the following link: https://github.com/andre1araujo/FAI23_G08\n",
    "___"
   ]
  },
  {
   "cell_type": "markdown",
   "metadata": {},
   "source": [
    "# **Introduction**\n",
    "\n",
    "This project was carried out by students of the Master of **Applied Artificial Intelligence**:\n",
    "* David Rodrigues - https://github.com/dhabid **or** a21177@alunos.ipca.pt\n",
    "* André Araújo - https://github.com/andre1araujo **or** a21185@alunos.ipca.pt\n",
    "\n",
    "The work arises in the context of the Fundamentals of Artificial Intelligence (FAI) discipline of the Master of Applied Artificial Intelligence. As can be seen, the work aims to solidify some foundations of artificial intelligence, encouraging students to solve problems whose solution is based on algorithms of this topic. It appears as a follow-up to project 1, and this time the aim is to implement **machine learning** algorithms.\n",
    "\n",
    "The work is then divided into two parts, one that addresses **supervised learning** methods (*supervised learning*) and another that addresses **unsupervised learning** methods (*unsupervised learning*). The **first topic** is the responsibility and development of **David Rodrigues**, while the **second part** is the exclusive responsibility of **André Araújo**.\n",
    "\n",
    "Both parts and methods are based on existing databases (*datasets*), so the website used to obtain them was **[Kaggle](https://www.kaggle.com/datasets)** .\n",
    "\n",
    "**IMPORTANT:** For this project it will be necessary to include a folder called `datasets` in the same location as the notebook. The Kaggle datasets should be included in this folder.\n",
    "\n",
    "The structure of the work is as follows for both parts:\n",
    "\n",
    "1. Dataset used\n",
    "\n",
    "2. Required Libraries\n",
    "\n",
    "3. Problem and resolution method\n",
    "\n",
    "4. Problem resolution\n",
    "\n",
    "5. Conclusion"
   ]
  },
  {
   "cell_type": "markdown",
   "metadata": {},
   "source": [
    "----\n",
    "# **Supervised Learning**"
   ]
  },
  {
   "cell_type": "markdown",
   "metadata": {},
   "source": [
    "## Dataset\n",
    "\n",
    "The Heart Attack Risk Prediction Dataset is a valuable resource to delve deeper into the dynamics of heart health and its predictive factors. Heart attacks, or myocardial infarctions, remain a significant global health problem, requiring a deeper understanding of their precursors and potential mitigating factors. This data set encompasses a diverse range of attributes, including age, cholesterol levels, blood pressure, smoking habits, exercise patterns, food preferences, among others, with the aim of elucidating the complex interaction of these variables in determining the probability of an heart attack.\n",
    "\n",
    "The dataset used for this problem can be found at the following link:\n",
    "https://www.kaggle.com/datasets/iamsouravbanerjee/heart-attack-prediction-dataset\n",
    "\n",
    "Next we have a table that presents a small excerpt from the dataset:\n",
    "\n",
    "|Patient ID|Age|Sex|Blood Pressure|Heart Rate|Diabetes|Smoking|Obesity|Exercise(Hours Per Week)|Diet|Previous Heart Problems|...|Heart Attack Risk|\n",
    "|-----|------|-----|-----|-----|-----|------|----- |-----|-----|-----|-----|-----|\n",
    "|HQM9364|75|Female|141/85|101|0|0|1|14.74|Unhealthy|0|...|0|\n",
    "|ESJ9954|62|Male|137/82|89|1|0|1|16.22|Unhealthy|0|...|1|\n",
    "|ONA1218|72|Female|128/93|86|1|1|0|6.81|Average|0|...|1|\n",
    "|UBE5339|18|Female|132/94|109|1|1|1|18.29|Average|1|...|1|\n",
    "\n",
    "⚠️ The **heart_attack_prediction_dataset.csv** file must be placed in the **datasets** folder in the same location on the notebook."
   ]
  },
  {
   "cell_type": "markdown",
   "metadata": {},
   "source": [
    "----\n",
    "# Libraries\n",
    "\n",
    "For this algorithm we will need some libraries such as the **pandas** library to work with data manipulation and analysis and the **numpy** library to manipulate matrices.\n",
    "\n",
    "The installation of these libraries must be previously carried out in the usage environment through **PIP** as follows:\n",
    "* `pip install pandas`\n",
    "* `pip install numpy`\n",
    "\n",
    "More information about the libraries can be found at the following links:\n",
    "* pandas - https://pandas.pydata.org/\n",
    "* numpy - https://numpy.org/"
   ]
  },
  {
   "cell_type": "code",
   "execution_count": 1,
   "metadata": {
    "execution": {
     "iopub.execute_input": "2024-01-06T20:43:49.826127Z",
     "iopub.status.busy": "2024-01-06T20:43:49.825673Z",
     "iopub.status.idle": "2024-01-06T20:43:49.831905Z",
     "shell.execute_reply": "2024-01-06T20:43:49.830669Z",
     "shell.execute_reply.started": "2024-01-06T20:43:49.826088Z"
    }
   },
   "outputs": [],
   "source": [
    "import pandas as pd\n",
    "import numpy as np"
   ]
  },
  {
   "cell_type": "markdown",
   "metadata": {},
   "source": [
    "Next, it is necessary to call several **sklearn** libraries for *machine learning* algorithms. In this case, **StandardScaler** will be called to normalize the data.\n",
    "\n",
    "To include the libraries, you will need to previously install sklearn:\n",
    "* `pip install -U scikit-learn`\n",
    "\n",
    "Next, several **sklearn** libraries are required for implementing machine learning algorithms and evaluating models. The libraries called are **StandardScaler** for data normalization, **train_test_split** for dividing training and testing sets, some evaluation metrics such as **confusion_matrix** and **accuracy_score**, and finally algorithms classification systems such as **KNeighborsClassifier**, **Decision Tree** and **Random Forest**.\n",
    "\n",
    "You can find more information about sklearn and associated libraries at the following links:\n",
    "* sklearn - https://scikit-learn.org/stable/\n",
    "* sklearn/StandardScaler - https://scikit-learn.org/stable/modules/generated/sklearn.preprocessing.StandardScaler.html\n",
    "* sklearn/train_test_split - https://scikit-learn.org/stable/modules/generated/sklearn.model_selection.train_test_split.html\n",
    "* sklearn/Metrics - https://scikit-learn.org/stable/modules/model_evaluation.html\n",
    "* sklearn/KNeighborsClassifier - https://scikit-learn.org/stable/modules/generated/sklearn.neighbors.KNeighborsClassifier.html\n",
    "* sklearn/DecisionTree - https://scikit-learn.org/stable/modules/tree.html\n",
    "* sklearn/RandomForest - https://scikit-learn.org/stable/modules/generated/sklearn.ensemble.RandomForestClassifier.html\n"
   ]
  },
  {
   "cell_type": "code",
   "execution_count": 2,
   "metadata": {
    "execution": {
     "iopub.execute_input": "2024-01-06T20:43:49.83601Z",
     "iopub.status.busy": "2024-01-06T20:43:49.835499Z",
     "iopub.status.idle": "2024-01-06T20:43:49.850627Z",
     "shell.execute_reply": "2024-01-06T20:43:49.84948Z",
     "shell.execute_reply.started": "2024-01-06T20:43:49.835964Z"
    }
   },
   "outputs": [],
   "source": [
    "from sklearn.preprocessing import StandardScaler\n",
    "\n",
    "from sklearn.model_selection import train_test_split\n",
    "from sklearn.model_selection import GridSearchCV\n",
    "\n",
    "from sklearn.metrics import confusion_matrix\n",
    "from sklearn.metrics import accuracy_score\n",
    "\n",
    "from sklearn.tree import DecisionTreeClassifier\n",
    "from sklearn.neighbors import KNeighborsClassifier\n",
    "from sklearn.ensemble import RandomForestClassifier"
   ]
  },
  {
   "cell_type": "markdown",
   "metadata": {},
   "source": [
    "Finally, the graphical visualization libraries and another that allows oversampling are called.\n",
    "\n",
    "The inclusion of these libraries requires the prior installation of the following packages:\n",
    "\n",
    "* `pip install matplotlib`\n",
    "\n",
    "* `pip install seaborn`\n",
    "\n",
    "* `pip install imblearn`\n",
    "\n",
    "You can find more information about the libraries at the following links:\n",
    "\n",
    "* matpotlib/plot - https://matplotlib.org/stable/api/_as_gen/matplotlib.pyplot.plot.html\n",
    "* seaborn - https://seaborn.pydata.org/\n",
    "* imblearn - https://imbalanced-learn.org/stable/"
   ]
  },
  {
   "cell_type": "code",
   "execution_count": 3,
   "metadata": {},
   "outputs": [
    {
     "name": "stdout",
     "output_type": "stream",
     "text": [
      "Requirement already satisfied: imblearn in c:\\users\\user\\anaconda3\\lib\\site-packages (0.0)\n",
      "Requirement already satisfied: imbalanced-learn in c:\\users\\user\\anaconda3\\lib\\site-packages (from imblearn) (0.12.4)\n",
      "Requirement already satisfied: joblib>=1.1.1 in c:\\users\\user\\anaconda3\\lib\\site-packages (from imbalanced-learn->imblearn) (1.5.2)\n",
      "Requirement already satisfied: threadpoolctl>=2.0.0 in c:\\users\\user\\anaconda3\\lib\\site-packages (from imbalanced-learn->imblearn) (2.2.0)\n",
      "Requirement already satisfied: scipy>=1.5.0 in c:\\users\\user\\anaconda3\\lib\\site-packages (from imbalanced-learn->imblearn) (1.7.3)\n",
      "Requirement already satisfied: scikit-learn>=1.0.2 in c:\\users\\user\\anaconda3\\lib\\site-packages (from imbalanced-learn->imblearn) (1.0.2)\n",
      "Requirement already satisfied: numpy>=1.17.3 in c:\\users\\user\\anaconda3\\lib\\site-packages (from imbalanced-learn->imblearn) (1.21.5)\n",
      "Note: you may need to restart the kernel to use updated packages.\n"
     ]
    }
   ],
   "source": [
    "pip install imblearn\n"
   ]
  },
  {
   "cell_type": "code",
   "execution_count": 4,
   "metadata": {
    "execution": {
     "iopub.execute_input": "2024-01-06T20:43:49.852712Z",
     "iopub.status.busy": "2024-01-06T20:43:49.851785Z",
     "iopub.status.idle": "2024-01-06T20:43:49.863071Z",
     "shell.execute_reply": "2024-01-06T20:43:49.862174Z",
     "shell.execute_reply.started": "2024-01-06T20:43:49.852669Z"
    }
   },
   "outputs": [],
   "source": [
    "import matplotlib.pyplot as plt\n",
    "import seaborn as sns\n",
    "\n",
    "from imblearn.over_sampling import SMOTE"
   ]
  },
  {
   "cell_type": "markdown",
   "metadata": {},
   "source": [
    "----\n",
    "## Automatic classification process\n",
    "\n",
    "The purpose of this process is to predict whether a person is at risk of having a heart attack or not. To do this we will use automatic classification.<br>\n",
    "Machine classification is a process in which a machine learning model is trained to categorize or label items based on their characteristics.<br>\n",
    "The problem will be divided into the following tasks:\n",
    "\n",
    "1. Data processing and preparation.\n",
    "\n",
    "2. Data visualization:\n",
    "\n",
    "3. Data preprocessing:\n",
    "\n",
    "4. Select the set of characteristics and the target variable.\n",
    "\n",
    "5. Data splitting.\n",
    "\n",
    "6. Select a classification algorithm.\n",
    "\n",
    "7. Train the model.\n",
    "\n",
    "8. Evaluate the model."
   ]
  },
  {
   "cell_type": "markdown",
   "metadata": {},
   "source": [
    "### Classification algorithms used\n",
    "\n",
    "For this problem we will apply three different classification methods, namely K Nearest Neighbors, Decision Tree and Random Forest. Each of these will be explained below.<br>\n",
    "* **K Nearest Neighbor:**<br>\n",
    "The K-Nearest Neighbors (KNN) algorithm is a popular machine learning technique used for classification and regression tasks. It is based on the idea that similar data points tend to have similar labels or values.<br>\n",
    "During the training phase, the KNN algorithm stores the entire training data set as a reference. When making predictions, it calculates the distance between the input data point and all training examples, using a chosen distance metric such as Euclidean distance.<br>\n",
    "Then, the algorithm identifies the K closest neighbors of the input data point based on their distances. In the case of classification, the algorithm assigns the label of the most common class among the K neighbors as the predicted label for the input data point. In the case of regression, it calculates the average or weighted average of the target values ​​of the K neighbors to predict the value of the input data point.\n",
    "\n",
    "* **Decision Tree:**<br>\n",
    "A Decision Tree is a tree structure similar to a flowchart in which an internal node represents a characteristic (or attribute), the branch represents a decision rule and each leaf represents the result.<br>\n",
    "The top node of a decision tree is known as the root node. Learns to divide based on attribute value. The tree is divided recursively, which is called recursive division.\n",
    "\n",
    "* **Random Forest:**<br>\n",
    "In a Random Forest classification, several decision trees are created using different random subsets of data and features. Each decision tree is like an expert, providing their opinion on how to classify the data. Predictions are made by calculating the prediction for each decision tree and then calculating the most popular result."
   ]
  },
  {
   "cell_type": "markdown",
   "metadata": {},
   "source": [
    "# Data processing"
   ]
  },
  {
   "cell_type": "markdown",
   "metadata": {},
   "source": [
    "We start by reading the dataset using the 'read_csv' function through *pandas*.<br>\n",
    "Then we can also visualize the first rows of the dataset."
   ]
  },
  {
   "cell_type": "code",
   "execution_count": 11,
   "metadata": {
    "execution": {
     "iopub.execute_input": "2024-01-06T20:43:49.865386Z",
     "iopub.status.busy": "2024-01-06T20:43:49.864395Z",
     "iopub.status.idle": "2024-01-06T20:43:49.940384Z",
     "shell.execute_reply": "2024-01-06T20:43:49.93925Z",
     "shell.execute_reply.started": "2024-01-06T20:43:49.865341Z"
    }
   },
   "outputs": [
    {
     "data": {
      "text/html": [
       "<div>\n",
       "<style scoped>\n",
       "    .dataframe tbody tr th:only-of-type {\n",
       "        vertical-align: middle;\n",
       "    }\n",
       "\n",
       "    .dataframe tbody tr th {\n",
       "        vertical-align: top;\n",
       "    }\n",
       "\n",
       "    .dataframe thead th {\n",
       "        text-align: right;\n",
       "    }\n",
       "</style>\n",
       "<table border=\"1\" class=\"dataframe\">\n",
       "  <thead>\n",
       "    <tr style=\"text-align: right;\">\n",
       "      <th></th>\n",
       "      <th>Patient_ID</th>\n",
       "      <th>Age</th>\n",
       "      <th>Sex</th>\n",
       "      <th>Cholesterol</th>\n",
       "      <th>Blood_Pressure</th>\n",
       "      <th>Heart_Rate</th>\n",
       "      <th>Diabetes</th>\n",
       "      <th>Family_History</th>\n",
       "      <th>Smoking</th>\n",
       "      <th>Obesity</th>\n",
       "      <th>...</th>\n",
       "      <th>Sedentary_Hours_Per_Day</th>\n",
       "      <th>Income</th>\n",
       "      <th>BMI</th>\n",
       "      <th>Triglycerides</th>\n",
       "      <th>Physical Activity_Days _Per_Week</th>\n",
       "      <th>Sleep_Hours_Per_Day</th>\n",
       "      <th>Country</th>\n",
       "      <th>Continent</th>\n",
       "      <th>Hemisphere</th>\n",
       "      <th>Heart_Attack_Risk</th>\n",
       "    </tr>\n",
       "  </thead>\n",
       "  <tbody>\n",
       "    <tr>\n",
       "      <th>0</th>\n",
       "      <td>BMW7812</td>\n",
       "      <td>67</td>\n",
       "      <td>Male</td>\n",
       "      <td>208</td>\n",
       "      <td>158/88</td>\n",
       "      <td>72</td>\n",
       "      <td>0</td>\n",
       "      <td>0</td>\n",
       "      <td>1</td>\n",
       "      <td>0</td>\n",
       "      <td>...</td>\n",
       "      <td>6.615001</td>\n",
       "      <td>261404</td>\n",
       "      <td>31.251233</td>\n",
       "      <td>286</td>\n",
       "      <td>0</td>\n",
       "      <td>6</td>\n",
       "      <td>Argentina</td>\n",
       "      <td>South America</td>\n",
       "      <td>Southern Hemisphere</td>\n",
       "      <td>0</td>\n",
       "    </tr>\n",
       "    <tr>\n",
       "      <th>1</th>\n",
       "      <td>CZE1114</td>\n",
       "      <td>21</td>\n",
       "      <td>Male</td>\n",
       "      <td>389</td>\n",
       "      <td>165/93</td>\n",
       "      <td>98</td>\n",
       "      <td>1</td>\n",
       "      <td>1</td>\n",
       "      <td>1</td>\n",
       "      <td>1</td>\n",
       "      <td>...</td>\n",
       "      <td>4.963459</td>\n",
       "      <td>285768</td>\n",
       "      <td>27.194973</td>\n",
       "      <td>235</td>\n",
       "      <td>1</td>\n",
       "      <td>7</td>\n",
       "      <td>Canada</td>\n",
       "      <td>North America</td>\n",
       "      <td>Northern Hemisphere</td>\n",
       "      <td>0</td>\n",
       "    </tr>\n",
       "    <tr>\n",
       "      <th>2</th>\n",
       "      <td>BNI9906</td>\n",
       "      <td>21</td>\n",
       "      <td>Female</td>\n",
       "      <td>324</td>\n",
       "      <td>174/99</td>\n",
       "      <td>72</td>\n",
       "      <td>1</td>\n",
       "      <td>0</td>\n",
       "      <td>0</td>\n",
       "      <td>0</td>\n",
       "      <td>...</td>\n",
       "      <td>9.463426</td>\n",
       "      <td>235282</td>\n",
       "      <td>28.176571</td>\n",
       "      <td>587</td>\n",
       "      <td>4</td>\n",
       "      <td>4</td>\n",
       "      <td>France</td>\n",
       "      <td>Europe</td>\n",
       "      <td>Northern Hemisphere</td>\n",
       "      <td>0</td>\n",
       "    </tr>\n",
       "    <tr>\n",
       "      <th>3</th>\n",
       "      <td>JLN3497</td>\n",
       "      <td>84</td>\n",
       "      <td>Male</td>\n",
       "      <td>383</td>\n",
       "      <td>163/100</td>\n",
       "      <td>73</td>\n",
       "      <td>1</td>\n",
       "      <td>1</td>\n",
       "      <td>1</td>\n",
       "      <td>0</td>\n",
       "      <td>...</td>\n",
       "      <td>7.648981</td>\n",
       "      <td>125640</td>\n",
       "      <td>36.464704</td>\n",
       "      <td>378</td>\n",
       "      <td>3</td>\n",
       "      <td>4</td>\n",
       "      <td>Canada</td>\n",
       "      <td>North America</td>\n",
       "      <td>Northern Hemisphere</td>\n",
       "      <td>0</td>\n",
       "    </tr>\n",
       "    <tr>\n",
       "      <th>4</th>\n",
       "      <td>GFO8847</td>\n",
       "      <td>66</td>\n",
       "      <td>Male</td>\n",
       "      <td>318</td>\n",
       "      <td>91/88</td>\n",
       "      <td>93</td>\n",
       "      <td>1</td>\n",
       "      <td>1</td>\n",
       "      <td>1</td>\n",
       "      <td>1</td>\n",
       "      <td>...</td>\n",
       "      <td>1.514821</td>\n",
       "      <td>160555</td>\n",
       "      <td>21.809144</td>\n",
       "      <td>231</td>\n",
       "      <td>1</td>\n",
       "      <td>5</td>\n",
       "      <td>Thailand</td>\n",
       "      <td>Asia</td>\n",
       "      <td>Northern Hemisphere</td>\n",
       "      <td>0</td>\n",
       "    </tr>\n",
       "  </tbody>\n",
       "</table>\n",
       "<p>5 rows × 26 columns</p>\n",
       "</div>"
      ],
      "text/plain": [
       "  Patient_ID  Age     Sex  Cholesterol Blood_Pressure  Heart_Rate  Diabetes  \\\n",
       "0    BMW7812   67    Male          208         158/88          72         0   \n",
       "1    CZE1114   21    Male          389         165/93          98         1   \n",
       "2    BNI9906   21  Female          324         174/99          72         1   \n",
       "3    JLN3497   84    Male          383        163/100          73         1   \n",
       "4    GFO8847   66    Male          318          91/88          93         1   \n",
       "\n",
       "   Family_History  Smoking  Obesity  ...  Sedentary_Hours_Per_Day  Income  \\\n",
       "0               0        1        0  ...                 6.615001  261404   \n",
       "1               1        1        1  ...                 4.963459  285768   \n",
       "2               0        0        0  ...                 9.463426  235282   \n",
       "3               1        1        0  ...                 7.648981  125640   \n",
       "4               1        1        1  ...                 1.514821  160555   \n",
       "\n",
       "         BMI  Triglycerides  Physical Activity_Days _Per_Week  \\\n",
       "0  31.251233            286                                 0   \n",
       "1  27.194973            235                                 1   \n",
       "2  28.176571            587                                 4   \n",
       "3  36.464704            378                                 3   \n",
       "4  21.809144            231                                 1   \n",
       "\n",
       "   Sleep_Hours_Per_Day    Country      Continent           Hemisphere  \\\n",
       "0                    6  Argentina  South America  Southern Hemisphere   \n",
       "1                    7     Canada  North America  Northern Hemisphere   \n",
       "2                    4     France         Europe  Northern Hemisphere   \n",
       "3                    4     Canada  North America  Northern Hemisphere   \n",
       "4                    5   Thailand           Asia  Northern Hemisphere   \n",
       "\n",
       "   Heart_Attack_Risk  \n",
       "0                  0  \n",
       "1                  0  \n",
       "2                  0  \n",
       "3                  0  \n",
       "4                  0  \n",
       "\n",
       "[5 rows x 26 columns]"
      ]
     },
     "execution_count": 11,
     "metadata": {},
     "output_type": "execute_result"
    }
   ],
   "source": [
    "heart_attack_file_path = './heart_attack_prediction_dataset.csv'\n",
    "heart_attack_data = pd.read_csv(heart_attack_file_path)\n",
    "heart_attack_data.head()"
   ]
  },
  {
   "cell_type": "markdown",
   "metadata": {},
   "source": [
    "As the algorithm requires numeric values ​​we will have to replace the categorical value in the 'Diet' column with a numeric representation.<br>\n",
    "For this case we decided to represent '0' as 'Unhealthy', '1' as 'Average' and '2' as 'Healthy'.<br>\n",
    "We did the same for the 'Sex' column. We decided to represent '1' as 'Male' and '0' as 'Female'."
   ]
  },
  {
   "cell_type": "code",
   "execution_count": 12,
   "metadata": {
    "execution": {
     "iopub.execute_input": "2024-01-06T20:43:49.944598Z",
     "iopub.status.busy": "2024-01-06T20:43:49.944026Z",
     "iopub.status.idle": "2024-01-06T20:43:49.955679Z",
     "shell.execute_reply": "2024-01-06T20:43:49.954396Z",
     "shell.execute_reply.started": "2024-01-06T20:43:49.944553Z"
    }
   },
   "outputs": [],
   "source": [
    "#using Map Function\n",
    "ordinal_map = {'Healthy':2,'Average':1,'Unhealthy':0}\n",
    "heart_attack_data['Diet'] = heart_attack_data['Diet'].map(ordinal_map)\n",
    "\n",
    "ordinal_map_sex = {'Male':1, 'Female':0}\n",
    "heart_attack_data['Sex'] = heart_attack_data['Sex'].map(ordinal_map_sex)"
   ]
  },
  {
   "cell_type": "markdown",
   "metadata": {},
   "source": [
    "As the 'Blood Pressure' column has two numbers we have to separate these two into 'BP_Systolic' and 'BP_Diastolic'.<br>\n",
    "In other words, in the 'Blood Pressure' column there were values ​​like 120/80. What we do here is separate these values ​​with 120 'BP_Systolic' and 80 'BP_Diastolic'.<br>\n",
    "We also removed the 'Country', 'Continent' and 'Hemisphere' columns since we think they have no influence on the result."
   ]
  },
  {
   "cell_type": "code",
   "execution_count": 13,
   "metadata": {
    "execution": {
     "iopub.execute_input": "2024-01-06T20:43:49.957728Z",
     "iopub.status.busy": "2024-01-06T20:43:49.957227Z",
     "iopub.status.idle": "2024-01-06T20:43:50.015982Z",
     "shell.execute_reply": "2024-01-06T20:43:50.014783Z",
     "shell.execute_reply.started": "2024-01-06T20:43:49.957689Z"
    }
   },
   "outputs": [],
   "source": [
    "#str = 180/120 = [\"180\", \"120\"]\n",
    "heart_attack_data[['BP_Systolic', 'BP_Diastolic']] = heart_attack_data['Blood_Pressure'].str.split('/', expand=True)\n",
    "\n",
    "# Convert the columns to numeric\n",
    "heart_attack_data['BP_Systolic'] = pd.to_numeric(heart_attack_data['BP_Systolic'])\n",
    "heart_attack_data['BP_Diastolic'] = pd.to_numeric(heart_attack_data['BP_Diastolic'])\n",
    "\n",
    "heart_attack_data = heart_attack_data.drop((\"Blood_Pressure\"), axis = 1)\n",
    "\n",
    "heart_attack_data = heart_attack_data.drop(columns=['Country', 'Continent','Hemisphere'])"
   ]
  },
  {
   "cell_type": "code",
   "execution_count": 14,
   "metadata": {
    "execution": {
     "iopub.execute_input": "2024-01-06T20:43:50.018192Z",
     "iopub.status.busy": "2024-01-06T20:43:50.017659Z",
     "iopub.status.idle": "2024-01-06T20:43:50.028719Z",
     "shell.execute_reply": "2024-01-06T20:43:50.027354Z",
     "shell.execute_reply.started": "2024-01-06T20:43:50.018149Z"
    }
   },
   "outputs": [
    {
     "data": {
      "text/plain": [
       "Patient_ID                           object\n",
       "Age                                   int64\n",
       "Sex                                   int64\n",
       "Cholesterol                           int64\n",
       "Heart_Rate                            int64\n",
       "Diabetes                              int64\n",
       "Family_History                        int64\n",
       "Smoking                               int64\n",
       "Obesity                               int64\n",
       "Alcohol_Consumption                   int64\n",
       "Exercise_Hours_Per_Week             float64\n",
       "Diet                                  int64\n",
       "Previous_Heart_Problems               int64\n",
       "Medication_Use                        int64\n",
       "Stress_Level                          int64\n",
       "Sedentary_Hours_Per_Day             float64\n",
       "Income                                int64\n",
       "BMI                                 float64\n",
       "Triglycerides                         int64\n",
       "Physical Activity_Days _Per_Week      int64\n",
       "Sleep_Hours_Per_Day                   int64\n",
       "Heart_Attack_Risk                     int64\n",
       "BP_Systolic                           int64\n",
       "BP_Diastolic                          int64\n",
       "dtype: object"
      ]
     },
     "execution_count": 14,
     "metadata": {},
     "output_type": "execute_result"
    }
   ],
   "source": [
    "# Checking Datatypes\n",
    "\n",
    "heart_attack_data.dtypes"
   ]
  },
  {
   "cell_type": "markdown",
   "metadata": {},
   "source": [
    "\n",
    "To avoid having rows in the dataset without any value, we added the following line of code to check if there is any column without a value, and we check that it does not exist."
   ]
  },
  {
   "cell_type": "code",
   "execution_count": 15,
   "metadata": {
    "execution": {
     "iopub.execute_input": "2024-01-06T20:43:50.030892Z",
     "iopub.status.busy": "2024-01-06T20:43:50.03038Z",
     "iopub.status.idle": "2024-01-06T20:43:50.042324Z",
     "shell.execute_reply": "2024-01-06T20:43:50.041149Z",
     "shell.execute_reply.started": "2024-01-06T20:43:50.030849Z"
    }
   },
   "outputs": [
    {
     "data": {
      "text/plain": [
       "Patient_ID                          0\n",
       "Age                                 0\n",
       "Sex                                 0\n",
       "Cholesterol                         0\n",
       "Heart_Rate                          0\n",
       "Diabetes                            0\n",
       "Family_History                      0\n",
       "Smoking                             0\n",
       "Obesity                             0\n",
       "Alcohol_Consumption                 0\n",
       "Exercise_Hours_Per_Week             0\n",
       "Diet                                0\n",
       "Previous_Heart_Problems             0\n",
       "Medication_Use                      0\n",
       "Stress_Level                        0\n",
       "Sedentary_Hours_Per_Day             0\n",
       "Income                              0\n",
       "BMI                                 0\n",
       "Triglycerides                       0\n",
       "Physical Activity_Days _Per_Week    0\n",
       "Sleep_Hours_Per_Day                 0\n",
       "Heart_Attack_Risk                   0\n",
       "BP_Systolic                         0\n",
       "BP_Diastolic                        0\n",
       "dtype: int64"
      ]
     },
     "execution_count": 15,
     "metadata": {},
     "output_type": "execute_result"
    }
   ],
   "source": [
    "# Detect Columns Containing Null Values\n",
    "heart_attack_data.isna().sum()"
   ]
  },
  {
   "cell_type": "markdown",
   "metadata": {},
   "source": [
    "# Select the set of characteristics and the target variable\n",
    "\n",
    "Next we have to choose 'X', which is a set of features that are selected from the 'heart_attack_data' dataset. These characteristics include information related to age, cholesterol, heart rate, presence of diabetes, etc.<br>\n",
    "We also chose 'y', which is the target variable that indicates whether a person is at risk of having a heart attack or not. The 'Heart_Attack_Risk' column from the 'heart_attack_data' dataset is used as the output variable for the prediction model. The values ​​in this column are the labels that the model will attempt to predict."
   ]
  },
  {
   "cell_type": "code",
   "execution_count": 17,
   "metadata": {
    "execution": {
     "iopub.execute_input": "2024-01-06T20:43:50.044858Z",
     "iopub.status.busy": "2024-01-06T20:43:50.044016Z",
     "iopub.status.idle": "2024-01-06T20:43:50.052949Z",
     "shell.execute_reply": "2024-01-06T20:43:50.051738Z",
     "shell.execute_reply.started": "2024-01-06T20:43:50.044822Z"
    }
   },
   "outputs": [],
   "source": [
    "# Choose target and features\n",
    "\n",
    "X = heart_attack_data[['Sex', 'Age', 'Cholesterol', 'Heart_Rate','Diabetes', 'Family_History','BP_Systolic','BP_Diastolic',\n",
    "                        'Smoking', 'Obesity','Alcohol_Consumption', 'Diet', 'Exercise_Hours_Per_Week',\n",
    "                        'Previous_Heart_Problems', 'Medication_Use', 'Triglycerides', 'Sleep_Hours_Per_Day']]\n",
    "        \n",
    "y=heart_attack_data['Heart_Attack_Risk'].values"
   ]
  },
  {
   "cell_type": "markdown",
   "metadata": {},
   "source": [
    "# K Neighbors Classifier"
   ]
  },
  {
   "cell_type": "markdown",
   "metadata": {},
   "source": [
    "We start by dividing the dataset into training and testing sets. X_train, X_test, y_train, and y_test are the variables that store these sets.<br>\n",
    "The training set is used to train the model, while the test set is reserved for evaluating the model's performance on unseen data.<br>\n",
    "The 'random_state' parameter is used to control the randomness in data division.<br>\n",
    "The 'test_size' parameter controls the proportion of the dataset that will be reserved for the test set.\n",
    "In this case, test_size=0.2 means that 20% of the data will be used as the test set, while 80% will be used as the training set."
   ]
  },
  {
   "cell_type": "code",
   "execution_count": 18,
   "metadata": {
    "execution": {
     "iopub.execute_input": "2024-01-06T20:43:50.054601Z",
     "iopub.status.busy": "2024-01-06T20:43:50.054226Z",
     "iopub.status.idle": "2024-01-06T20:43:50.072119Z",
     "shell.execute_reply": "2024-01-06T20:43:50.070616Z",
     "shell.execute_reply.started": "2024-01-06T20:43:50.054571Z"
    }
   },
   "outputs": [],
   "source": [
    "X_train, X_test, y_train, y_test = train_test_split(X, y,random_state = 1,test_size=0.2)"
   ]
  },
  {
   "cell_type": "markdown",
   "metadata": {},
   "source": [
    "Then we use StandardScaler to normalize the characteristics.<br>\n",
    "Distance-based algorithms such as K-NN can be sensitive to the scale of features. Normalizing features ensures that they are all on the same scale, preventing features with larger values ​​from dominating the model's contribution."
   ]
  },
  {
   "cell_type": "code",
   "execution_count": 19,
   "metadata": {
    "execution": {
     "iopub.execute_input": "2024-01-06T20:43:50.074039Z",
     "iopub.status.busy": "2024-01-06T20:43:50.073677Z",
     "iopub.status.idle": "2024-01-06T20:43:50.090837Z",
     "shell.execute_reply": "2024-01-06T20:43:50.089532Z",
     "shell.execute_reply.started": "2024-01-06T20:43:50.073993Z"
    }
   },
   "outputs": [],
   "source": [
    "#Feature scaling\n",
    "sc_X = StandardScaler()\n",
    "X_train = sc_X.fit_transform(X_train)\n",
    "X_test = sc_X.transform(X_test)"
   ]
  },
  {
   "cell_type": "markdown",
   "metadata": {},
   "source": [
    "Then we initialize the classifier.<br>\n",
    "For 'n_neighbor' we tested with 4 values ​​(3, 5, 7 and 12) and later we will choose the best one:"
   ]
  },
  {
   "cell_type": "code",
   "execution_count": 20,
   "metadata": {
    "execution": {
     "iopub.execute_input": "2024-01-06T20:43:50.093864Z",
     "iopub.status.busy": "2024-01-06T20:43:50.092615Z",
     "iopub.status.idle": "2024-01-06T20:43:50.100286Z",
     "shell.execute_reply": "2024-01-06T20:43:50.098984Z",
     "shell.execute_reply.started": "2024-01-06T20:43:50.093811Z"
    }
   },
   "outputs": [],
   "source": [
    "classifier_3 = KNeighborsClassifier(n_neighbors=3)\n",
    "classifier_5 = KNeighborsClassifier(n_neighbors=5)\n",
    "classifier_7 = KNeighborsClassifier(n_neighbors=7)\n",
    "classifier_12 = KNeighborsClassifier(n_neighbors=12)"
   ]
  },
  {
   "cell_type": "markdown",
   "metadata": {},
   "source": [
    "Then we train the K-NN model with the training sets (X_train and y_train).<br>\n",
    "Model training involves learning patterns in the training data, allowing the model to make predictions about unseen data."
   ]
  },
  {
   "cell_type": "code",
   "execution_count": 21,
   "metadata": {
    "execution": {
     "iopub.execute_input": "2024-01-06T20:43:50.102911Z",
     "iopub.status.busy": "2024-01-06T20:43:50.101847Z",
     "iopub.status.idle": "2024-01-06T20:43:50.127971Z",
     "shell.execute_reply": "2024-01-06T20:43:50.126825Z",
     "shell.execute_reply.started": "2024-01-06T20:43:50.102864Z"
    }
   },
   "outputs": [
    {
     "data": {
      "text/plain": [
       "KNeighborsClassifier(n_neighbors=12)"
      ]
     },
     "execution_count": 21,
     "metadata": {},
     "output_type": "execute_result"
    }
   ],
   "source": [
    "# Fit Model\n",
    "classifier_3.fit(X_train, y_train)\n",
    "classifier_5.fit(X_train, y_train)\n",
    "classifier_7.fit(X_train, y_train)\n",
    "classifier_12.fit(X_train, y_train)"
   ]
  },
  {
   "cell_type": "markdown",
   "metadata": {},
   "source": [
    "\n",
    "We later made predictions on the test set using the trained model.<br>\n",
    "The predictions are compared to the true classes in the test set to evaluate the model's performance."
   ]
  },
  {
   "cell_type": "code",
   "execution_count": 22,
   "metadata": {
    "execution": {
     "iopub.execute_input": "2024-01-06T20:43:50.135106Z",
     "iopub.status.busy": "2024-01-06T20:43:50.134701Z",
     "iopub.status.idle": "2024-01-06T20:43:50.836645Z",
     "shell.execute_reply": "2024-01-06T20:43:50.835288Z",
     "shell.execute_reply.started": "2024-01-06T20:43:50.135072Z"
    }
   },
   "outputs": [],
   "source": [
    "# Predict the test set results\n",
    "y_pred_3 = classifier_3.predict(X_test)\n",
    "y_pred_5 = classifier_5.predict(X_test)\n",
    "y_pred_7 = classifier_7.predict(X_test)\n",
    "y_pred_12 = classifier_12.predict(X_test)"
   ]
  },
  {
   "cell_type": "markdown",
   "metadata": {},
   "source": [
    "Finally, we use some metrics to evaluate the model’s performance.<br>\n",
    "The confusion_matrix calculates the confusion matrix to evaluate the model's performance.<br>\n",
    "The accuracy_score calculates the overall accuracy of the model.<br>"
   ]
  },
  {
   "cell_type": "code",
   "execution_count": 23,
   "metadata": {
    "execution": {
     "iopub.execute_input": "2024-01-06T20:43:50.841226Z",
     "iopub.status.busy": "2024-01-06T20:43:50.83815Z",
     "iopub.status.idle": "2024-01-06T20:43:51.147681Z",
     "shell.execute_reply": "2024-01-06T20:43:51.146536Z",
     "shell.execute_reply.started": "2024-01-06T20:43:50.841186Z"
    }
   },
   "outputs": [
    {
     "name": "stdout",
     "output_type": "stream",
     "text": [
      "[[807 335]\n",
      " [448 163]]\n",
      "0.5533371363377068\n",
      "[[847 295]\n",
      " [469 142]]\n",
      "0.5641756988020536\n",
      "[[898 244]\n",
      " [482 129]]\n",
      "0.5858528237307473\n",
      "[[1041  101]\n",
      " [ 565   46]]\n",
      "0.6200798630918426\n"
     ]
    },
    {
     "data": {
      "image/png": "[encoded data removed]",
      "text/plain": [
       "<Figure size 432x288 with 2 Axes>"
      ]
     },
     "metadata": {
      "needs_background": "light"
     },
     "output_type": "display_data"
    }
   ],
   "source": [
    "# Evaluate Model\n",
    "\n",
    "cm_KNN = confusion_matrix(y_test, y_pred_3)\n",
    "print (cm_KNN)\n",
    "print(accuracy_score(y_test, y_pred_3))\n",
    "\n",
    "cm_KNN = confusion_matrix(y_test, y_pred_5)\n",
    "print (cm_KNN)\n",
    "print(accuracy_score(y_test, y_pred_5))\n",
    "\n",
    "cm_KNN = confusion_matrix(y_test, y_pred_7)\n",
    "print (cm_KNN)\n",
    "print(accuracy_score(y_test, y_pred_7))\n",
    "\n",
    "cm_KNN = confusion_matrix(y_test, y_pred_12)\n",
    "print (cm_KNN)\n",
    "print(accuracy_score(y_test, y_pred_12))\n",
    "\n",
    "cm_KNN = confusion_matrix(y_test, y_pred_5)\n",
    "acc_KNN = accuracy_score(y_test, y_pred_5)\n",
    "sns.heatmap(cm_KNN, annot=True, fmt='d', cmap='Reds')\n",
    "plt.xlabel('Predicted')\n",
    "plt.ylabel('Actual')\n",
    "plt.title('Confusion Matrix')\n",
    "plt.show()"
   ]
  },
  {
   "cell_type": "markdown",
   "metadata": {},
   "source": [
    "We chose to choose the model with 'n_neighbors'=5 for its overall model accuracy and for presenting a better confusion matrix.\n",
    "With these results we have:<br>\n",
    "* True Positives (142): These are individuals correctly predicted to be at risk for heart attack.\n",
    "* True Negatives (847): These are individuals correctly predicted to not be at risk for a heart attack.\n",
    "* False Positives (295): These are individuals incorrectly predicted to be at risk for heart attack.\n",
    "* False Negatives (469): These are individuals incorrectly predicted to not be at risk for a heart attack.\n",
    "* Accuracy of 0.564 indicates that when the model predicts that an individual is at risk of having a heart attack, it is correct about 56.4% of the time."
   ]
  },
  {
   "cell_type": "markdown",
   "metadata": {},
   "source": [
    "# Decision Tree"
   ]
  },
  {
   "cell_type": "markdown",
   "metadata": {},
   "source": [
    "We start by dividing the dataset into training and testing sets. X_train, X_test, y_train, and y_test are the variables that store these sets.<br>\n",
    "The training set is used to train the model, while the test set is reserved for evaluating the model's performance on unseen data.<br>\n",
    "The 'random_state' parameter is used to control the randomness in data division.<br>\n",
    "The 'test_size' parameter controls the proportion of the dataset that will be reserved for the test set.\n",
    "In this case, test_size=0.3 means that 30% of the data will be used as the test set, while 70% will be used as the training set."
   ]
  },
  {
   "cell_type": "code",
   "execution_count": 24,
   "metadata": {
    "execution": {
     "iopub.execute_input": "2024-01-06T20:43:51.150219Z",
     "iopub.status.busy": "2024-01-06T20:43:51.149476Z",
     "iopub.status.idle": "2024-01-06T20:43:51.159987Z",
     "shell.execute_reply": "2024-01-06T20:43:51.158755Z",
     "shell.execute_reply.started": "2024-01-06T20:43:51.150173Z"
    }
   },
   "outputs": [],
   "source": [
    "X_train, X_test, y_train, y_test = train_test_split(X, y,test_size=0.3,random_state = 0)"
   ]
  },
  {
   "cell_type": "markdown",
   "metadata": {},
   "source": [
    "Then we use StandardScaler to normalize the characteristics.<br>"
   ]
  },
  {
   "cell_type": "code",
   "execution_count": 25,
   "metadata": {
    "execution": {
     "iopub.execute_input": "2024-01-06T20:43:51.163322Z",
     "iopub.status.busy": "2024-01-06T20:43:51.162181Z",
     "iopub.status.idle": "2024-01-06T20:43:51.180421Z",
     "shell.execute_reply": "2024-01-06T20:43:51.179158Z",
     "shell.execute_reply.started": "2024-01-06T20:43:51.163282Z"
    }
   },
   "outputs": [],
   "source": [
    "# Standardize the data\n",
    "sc_X = StandardScaler()\n",
    "X_train = sc_X.fit_transform(X_train)\n",
    "X_test = sc_X.transform(X_test)"
   ]
  },
  {
   "cell_type": "markdown",
   "metadata": {},
   "source": [
    "Then we try to find the best parameters to use in our model. To do this, we use the GridSearchCV class from scikit-learn to find the best parameters. <br>\n",
    "The parameters that can be changed are:\n",
    "* 'max_depth': The maximum depth of the decision tree.\n",
    "* 'min_samples_leaf': The minimum number of samples required to be in a leaf.\n",
    "* 'criterion': The function used to measure the quality of a division."
   ]
  },
  {
   "cell_type": "code",
   "execution_count": 26,
   "metadata": {
    "execution": {
     "iopub.execute_input": "2024-01-06T20:43:51.18215Z",
     "iopub.status.busy": "2024-01-06T20:43:51.181766Z",
     "iopub.status.idle": "2024-01-06T20:44:02.439534Z",
     "shell.execute_reply": "2024-01-06T20:44:02.438283Z",
     "shell.execute_reply.started": "2024-01-06T20:43:51.182116Z"
    }
   },
   "outputs": [
    {
     "name": "stdout",
     "output_type": "stream",
     "text": [
      "Best Hyperparameters: {'criterion': 'entropy', 'max_depth': 5, 'min_samples_leaf': 6}\n"
     ]
    }
   ],
   "source": [
    "# Define the hyperparameters and their possible values\n",
    "param_grid = {\n",
    "    'max_depth': [None,5, 7, 10, 20, 30],\n",
    "    'min_samples_leaf': [1, 2, 4, 6],\n",
    "    'criterion': ['gini','entropy']\n",
    "}\n",
    "\n",
    "# Create a decision tree classifier\n",
    "dtree = DecisionTreeClassifier()\n",
    "\n",
    "# Use GridSearchCV to search for the best combination of hyperparameters\n",
    "grid_search = GridSearchCV(dtree, param_grid, cv=5, scoring='accuracy')\n",
    "grid_search.fit(X_train, y_train)\n",
    "\n",
    "# Print the best hyperparameters\n",
    "print(\"Best Hyperparameters:\", grid_search.best_params_)"
   ]
  },
  {
   "cell_type": "markdown",
   "metadata": {},
   "source": [
    "We then apply the best parameters to our decision tree."
   ]
  },
  {
   "cell_type": "code",
   "execution_count": 27,
   "metadata": {
    "execution": {
     "iopub.execute_input": "2024-01-06T20:44:02.441333Z",
     "iopub.status.busy": "2024-01-06T20:44:02.440924Z",
     "iopub.status.idle": "2024-01-06T20:44:02.446156Z",
     "shell.execute_reply": "2024-01-06T20:44:02.445026Z",
     "shell.execute_reply.started": "2024-01-06T20:44:02.441301Z"
    }
   },
   "outputs": [],
   "source": [
    "best_params = grid_search.best_params_\n",
    "\n",
    "clf = DecisionTreeClassifier(**best_params)"
   ]
  },
  {
   "cell_type": "markdown",
   "metadata": {},
   "source": [
    "Then we train the model with the training sets (X_train and y_train).<br>\n",
    "Model training involves learning patterns in the training data, allowing the model to make predictions about unseen data."
   ]
  },
  {
   "cell_type": "code",
   "execution_count": 28,
   "metadata": {
    "execution": {
     "iopub.execute_input": "2024-01-06T20:44:02.448389Z",
     "iopub.status.busy": "2024-01-06T20:44:02.447927Z",
     "iopub.status.idle": "2024-01-06T20:44:02.484782Z",
     "shell.execute_reply": "2024-01-06T20:44:02.483711Z",
     "shell.execute_reply.started": "2024-01-06T20:44:02.448347Z"
    }
   },
   "outputs": [],
   "source": [
    "# Train the model on the training set\n",
    "clf_model = clf.fit(X_train, y_train)"
   ]
  },
  {
   "cell_type": "markdown",
   "metadata": {},
   "source": [
    "We later made predictions on the test set using the trained model.<br>\n",
    "The predictions are compared to the true classes in the test set to evaluate the model's performance."
   ]
  },
  {
   "cell_type": "code",
   "execution_count": 29,
   "metadata": {
    "execution": {
     "iopub.execute_input": "2024-01-06T20:44:02.486663Z",
     "iopub.status.busy": "2024-01-06T20:44:02.486279Z",
     "iopub.status.idle": "2024-01-06T20:44:02.493337Z",
     "shell.execute_reply": "2024-01-06T20:44:02.491941Z",
     "shell.execute_reply.started": "2024-01-06T20:44:02.486629Z"
    }
   },
   "outputs": [],
   "source": [
    "# Predict the test set results\n",
    "y_pred = clf_model.predict(X_test)"
   ]
  },
  {
   "cell_type": "markdown",
   "metadata": {},
   "source": [
    "Finally, we use some metrics to evaluate the model’s performance.<br>"
   ]
  },
  {
   "cell_type": "code",
   "execution_count": 30,
   "metadata": {
    "execution": {
     "iopub.execute_input": "2024-01-06T20:44:02.495599Z",
     "iopub.status.busy": "2024-01-06T20:44:02.495219Z",
     "iopub.status.idle": "2024-01-06T20:44:02.751615Z",
     "shell.execute_reply": "2024-01-06T20:44:02.75047Z",
     "shell.execute_reply.started": "2024-01-06T20:44:02.495564Z"
    }
   },
   "outputs": [
    {
     "data": {
      "image/png": "[encoded data removed]",
      "text/plain": [
       "<Figure size 432x288 with 2 Axes>"
      ]
     },
     "metadata": {
      "needs_background": "light"
     },
     "output_type": "display_data"
    },
    {
     "name": "stdout",
     "output_type": "stream",
     "text": [
      "[[1571  107]\n",
      " [ 894   57]]\n",
      "0.6192468619246861\n"
     ]
    }
   ],
   "source": [
    "# Evaluate Model\n",
    "\n",
    "cm_dt = confusion_matrix(y_test, y_pred)\n",
    "sns.heatmap(cm_dt, annot=True, fmt='d', cmap='Reds')\n",
    "plt.xlabel('Predicted')\n",
    "plt.ylabel('Actual')\n",
    "plt.title('Confusion Matrix')\n",
    "plt.show()\n",
    "print(cm_dt)\n",
    "acc_dt = accuracy_score(y_test, y_pred)\n",
    "print(acc_dt)"
   ]
  },
  {
   "cell_type": "markdown",
   "metadata": {},
   "source": [
    "With these results we have:<br>\n",
    "* True Positives (57): These are individuals correctly predicted to be at risk for heart attack.\n",
    "* True Negatives (1571): These are individuals correctly predicted to not be at risk for a heart attack.\n",
    "* False Positives (107): These are individuals incorrectly predicted to be at risk for heart attack.\n",
    "* False Negatives (894): These are individuals incorrectly predicted to not be at risk for a heart attack.\n",
    "* Accuracy of 0.619 indicates that when the model predicts that an individual is at risk of having a heart attack, it is correct about 61.9% of the time."
   ]
  },
  {
   "cell_type": "markdown",
   "metadata": {},
   "source": [
    "# Random Forest"
   ]
  },
  {
   "cell_type": "markdown",
   "metadata": {},
   "source": [
    "Finally we used another classification algorithm, Random Forest, but this time with oversample.<br>\n",
    "Oversample is an approach used in machine learning to solve the imbalanced dataset problem, where one class has significantly fewer instances than the other. In classification problems, having unbalanced classes can lead to biased models that may perform poorly on the minority class, since the model tends to be more influenced by the majority class.<br>\n",
    "To do this, we use SMOTE to oversample the minority class in the dataset, thus creating synthetic samples to balance the distribution of the classes."
   ]
  },
  {
   "cell_type": "code",
   "execution_count": 31,
   "metadata": {
    "execution": {
     "iopub.execute_input": "2024-01-06T20:44:02.754759Z",
     "iopub.status.busy": "2024-01-06T20:44:02.753121Z",
     "iopub.status.idle": "2024-01-06T20:44:02.816805Z",
     "shell.execute_reply": "2024-01-06T20:44:02.815857Z",
     "shell.execute_reply.started": "2024-01-06T20:44:02.754713Z"
    }
   },
   "outputs": [],
   "source": [
    "smote = SMOTE(random_state = 0)\n",
    "X_resample, y_resample = smote.fit_resample(X, y)"
   ]
  },
  {
   "cell_type": "markdown",
   "metadata": {},
   "source": [
    "\n",
    "We use scikit-learn's StandardScaler to scale the features of the resampled dataset."
   ]
  },
  {
   "cell_type": "code",
   "execution_count": 32,
   "metadata": {
    "execution": {
     "iopub.execute_input": "2024-01-06T20:44:02.819554Z",
     "iopub.status.busy": "2024-01-06T20:44:02.818704Z",
     "iopub.status.idle": "2024-01-06T20:44:02.835083Z",
     "shell.execute_reply": "2024-01-06T20:44:02.833971Z",
     "shell.execute_reply.started": "2024-01-06T20:44:02.819505Z"
    }
   },
   "outputs": [],
   "source": [
    "scaler = StandardScaler()\n",
    "X_scaled = scaler.fit_transform(X_resample)"
   ]
  },
  {
   "cell_type": "markdown",
   "metadata": {},
   "source": [
    "The rescaled dataset is split into training and test sets using train_test_split.<br>\n",
    "The division is 70% for training and 30% for testing."
   ]
  },
  {
   "cell_type": "code",
   "execution_count": 33,
   "metadata": {
    "execution": {
     "iopub.execute_input": "2024-01-06T20:44:02.837325Z",
     "iopub.status.busy": "2024-01-06T20:44:02.836639Z",
     "iopub.status.idle": "2024-01-06T20:44:02.844716Z",
     "shell.execute_reply": "2024-01-06T20:44:02.843699Z",
     "shell.execute_reply.started": "2024-01-06T20:44:02.837289Z"
    }
   },
   "outputs": [],
   "source": [
    "X_train, X_test, y_train, y_test = train_test_split(X_scaled, y_resample, test_size=0.3, random_state=0)"
   ]
  },
  {
   "cell_type": "markdown",
   "metadata": {},
   "source": [
    "We use scikit-learn's RandomForestClassifier to train a Random Forest model on the training data."
   ]
  },
  {
   "cell_type": "code",
   "execution_count": 34,
   "metadata": {
    "execution": {
     "iopub.execute_input": "2024-01-06T20:44:02.84694Z",
     "iopub.status.busy": "2024-01-06T20:44:02.846243Z",
     "iopub.status.idle": "2024-01-06T20:44:04.661263Z",
     "shell.execute_reply": "2024-01-06T20:44:04.660171Z",
     "shell.execute_reply.started": "2024-01-06T20:44:02.846906Z"
    }
   },
   "outputs": [
    {
     "data": {
      "text/plain": [
       "RandomForestClassifier()"
      ]
     },
     "execution_count": 34,
     "metadata": {},
     "output_type": "execute_result"
    }
   ],
   "source": [
    "model = RandomForestClassifier()\n",
    "\n",
    "model.fit(X_train,y_train)"
   ]
  },
  {
   "cell_type": "markdown",
   "metadata": {},
   "source": [
    "Predict the target (y_pred) on the test set using the trained Random Forest model."
   ]
  },
  {
   "cell_type": "code",
   "execution_count": 35,
   "metadata": {
    "execution": {
     "iopub.execute_input": "2024-01-06T20:44:04.662999Z",
     "iopub.status.busy": "2024-01-06T20:44:04.662645Z",
     "iopub.status.idle": "2024-01-06T20:44:04.755356Z",
     "shell.execute_reply": "2024-01-06T20:44:04.754188Z",
     "shell.execute_reply.started": "2024-01-06T20:44:04.662952Z"
    }
   },
   "outputs": [],
   "source": [
    "y_pred = model.predict(X_test)"
   ]
  },
  {
   "cell_type": "markdown",
   "metadata": {},
   "source": [
    "Finally, it calculates the confusion matrix to evaluate the model."
   ]
  },
  {
   "cell_type": "code",
   "execution_count": 36,
   "metadata": {
    "execution": {
     "iopub.execute_input": "2024-01-06T20:44:04.758001Z",
     "iopub.status.busy": "2024-01-06T20:44:04.757148Z",
     "iopub.status.idle": "2024-01-06T20:44:05.028887Z",
     "shell.execute_reply": "2024-01-06T20:44:05.027768Z",
     "shell.execute_reply.started": "2024-01-06T20:44:04.757967Z"
    }
   },
   "outputs": [
    {
     "data": {
      "image/png": "[encoded data removed]",
      "text/plain": [
       "<Figure size 432x288 with 2 Axes>"
      ]
     },
     "metadata": {
      "needs_background": "light"
     },
     "output_type": "display_data"
    },
    {
     "name": "stdout",
     "output_type": "stream",
     "text": [
      "0.6554074074074074\n"
     ]
    }
   ],
   "source": [
    "cm_rf = confusion_matrix(y_test, y_pred)\n",
    "sns.heatmap(cm_rf, annot=True, fmt='d', cmap='Reds')\n",
    "plt.xlabel('Predicted')\n",
    "plt.ylabel('Actual')\n",
    "plt.title('Confusion Matrix')\n",
    "plt.show()\n",
    "acc_rf = accuracy_score(y_test, y_pred)\n",
    "print(acc_rf)"
   ]
  },
  {
   "cell_type": "markdown",
   "metadata": {},
   "source": [
    "With these results we have:<br>\n",
    "* True Positives (1003): These are individuals correctly predicted to be at risk for heart attack.\n",
    "* True Negatives (1174): These are individuals correctly predicted to not be at risk for a heart attack.\n",
    "* False Positives (493): These are individuals incorrectly predicted to be at risk for heart attack.\n",
    "* False Negatives (705): These are individuals incorrectly predicted to not be at risk for a heart attack.\n",
    "* Accuracy of 0.645 indicates that when the model predicts that an individual is at risk of having a heart attack, it is correct about 64.5% of the time."
   ]
  },
  {
   "cell_type": "markdown",
   "metadata": {},
   "source": [
    "----\n",
    "# Comparison between models"
   ]
  },
  {
   "cell_type": "code",
   "execution_count": 37,
   "metadata": {
    "execution": {
     "iopub.execute_input": "2024-01-06T20:44:05.03113Z",
     "iopub.status.busy": "2024-01-06T20:44:05.030301Z",
     "iopub.status.idle": "2024-01-06T20:44:05.701731Z",
     "shell.execute_reply": "2024-01-06T20:44:05.700404Z",
     "shell.execute_reply.started": "2024-01-06T20:44:05.031096Z"
    }
   },
   "outputs": [
    {
     "data": {
      "image/png": "[encoded data removed]",
      "text/plain": [
       "<Figure size 1296x288 with 3 Axes>"
      ]
     },
     "metadata": {
      "needs_background": "light"
     },
     "output_type": "display_data"
    }
   ],
   "source": [
    "def plot_confusion_matrix(matrix, model_name, ax):\n",
    "    sns.heatmap(matrix, annot=True, fmt='d', cmap='Blues', cbar=False, ax=ax)\n",
    "    ax.set_xlabel('Predicted')\n",
    "    ax.set_ylabel('Actual')\n",
    "    ax.set_title(f'Confusion Matrix - {model_name}')\n",
    "\n",
    "fig, axes = plt.subplots(1, 3, figsize=(18, 4))\n",
    "\n",
    "plot_confusion_matrix(cm_KNN, 'K Nearest Neighbor', axes[0])\n",
    "plot_confusion_matrix(cm_dt, 'Decision Tree', axes[1])\n",
    "plot_confusion_matrix(cm_rf, 'Random Forest', axes[2])\n",
    "\n",
    "plt.tight_layout()\n",
    "plt.show()"
   ]
  },
  {
   "cell_type": "code",
   "execution_count": 38,
   "metadata": {
    "execution": {
     "iopub.execute_input": "2024-01-06T20:44:05.703572Z",
     "iopub.status.busy": "2024-01-06T20:44:05.70312Z",
     "iopub.status.idle": "2024-01-06T20:44:05.972932Z",
     "shell.execute_reply": "2024-01-06T20:44:05.971772Z",
     "shell.execute_reply.started": "2024-01-06T20:44:05.703539Z"
    }
   },
   "outputs": [
    {
     "data": {
      "image/png": "[encoded data removed]",
      "text/plain": [
       "<Figure size 720x432 with 1 Axes>"
      ]
     },
     "metadata": {
      "needs_background": "light"
     },
     "output_type": "display_data"
    }
   ],
   "source": [
    "precisions = [acc_KNN, acc_dt, acc_rf]\n",
    "model_names = ['K Nearest Neighbor', 'Decision Tree', 'Random Forest']\n",
    "\n",
    "# Criar um gráfico de barras\n",
    "plt.figure(figsize=(10, 6))\n",
    "plt.bar(model_names, precisions, color=['blue', 'orange', 'green'])\n",
    "plt.xlabel('Models')\n",
    "plt.ylabel('Precision')\n",
    "plt.title('Comparison between models')\n",
    "plt.ylim(0, 1)\n",
    "plt.show()"
   ]
  },
  {
   "cell_type": "markdown",
   "metadata": {},
   "source": [
    "As we can see from the results above, we can see that we obtained a better result with the Random Forest model.<br>\n",
    "This may be because Random Forest is an ensemble model that combines several decision trees to make predictions. This model aggregation method can provide greater stability and overall performance compared to a single decision tree.<br>\n",
    "It may also be due to the fact that in this model we oversampled, which is an approach used in machine learning to solve the problem of unbalanced dataset.<br>\n",
    "\n",
    "Random Forest often outperforms Decision Trees and KNN in terms of robustness and generalizability.<br>\n",
    "The choice of model depends on the specific context, the nature of the data, and the requirements of the problem.\n",
    "Experimenting with different algorithms and tuning their hyperparameters can help determine which model is best suited for the task at hand.<br>"
   ]
  },
  {
   "cell_type": "markdown",
   "metadata": {},
   "source": [
    "----\n",
    "## Conclusion of Supervised Learning\n",
    "\n",
    "To complete the supervised learning analysis, we explored three distinct models - K Nearest Neighbor (KNN), Decision Tree and Random Forest - with the aim of predicting whether or not a person is at risk of having a heart attack. Each model has unique characteristics that influence its performance on the task in question.\n",
    "\n",
    "KNN, although a simple and intuitive model, can be sensitive to the scale of the data and the presence of irrelevant features. Its performance may vary depending on the appropriate configuration of hyperparameters, such as the number of neighbors.\n",
    "\n",
    "The Decision Tree is a more interpretable approach, allowing you to visualize decisions made by the model. However, without adequate constraints, decision trees can become prone to overfitting, resulting in overfitting to the training data.\n",
    "\n",
    "Random Forest, in turn, stood out as a robust choice, taking advantage of the strength of ensemble learning. By building multiple decision trees and combining their results, Random Forest tends to generalize well, reducing the likelihood of overfitting.\n",
    "\n",
    "The study of these models deepened the understanding of supervised learning and its applications."
   ]
  },
  {
   "cell_type": "markdown",
   "metadata": {},
   "source": [
    "# **Introduction**\n",
    "\n",
    "This project was carried out by students of the **Master of Applied Artificial Intelligence**:\n",
    "* David Rodrigues - 21177\n",
    "* André Araújo - 21185\n",
    "\n",
    "The work arises in the context of the Fundamentals of Artificial Intelligence (FAI) discipline of the Master of Applied Artificial Intelligence. As can be seen, the work aims to solidify some foundations of artificial intelligence, encouraging students to solve problems whose solution is based on algorithms of this topic. It appears as a follow-up to project 1, and this time the aim is to implement **machine learning** algorithms.\n",
    "\n",
    "The work is then divided into two parts, one that addresses **supervised learning** methods (*supervised learning*) and another that addresses **unsupervised learning** methods (*unsupervised learning*). The **first topic** is the responsibility and development of **David Rodrigues**, while the **second part** is the exclusive responsibility of **André Araújo**.\n",
    "\n",
    "Both parts and methods are based on existing databases (*datasets*), so the website used to obtain them was **[Kaggle](https://www.kaggle.com/datasets)** .\n",
    "\n",
    "**IMPORTANT:** For this project it will be necessary to include a folder called `datasets` in the same location as the notebook. The Kaggle datasets should be included in this folder.\n",
    "\n",
    "The structure of the work is as follows for both parts:\n",
    "\n",
    "1. Dataset used\n",
    "\n",
    "2. Required Libraries\n",
    "\n",
    "3. Problem and resolution method\n",
    "\n",
    "4. Problem resolution\n",
    "\n",
    "5. Conclusion"
   ]
  },
  {
   "cell_type": "markdown",
   "metadata": {},
   "source": [
    "---\n",
    "# **Unsupervised Learning**\n"
   ]
  },
  {
   "cell_type": "markdown",
   "metadata": {},
   "source": [
    "\n",
    "\n",
    "## Dataset\n",
    "\n",
    "Dataset corresponds to a set of **data related to a theme**. A simpler way to understand this is to think of a simple **table** in which each row corresponds to a transaction and the columns represent attributes of that transaction. An example will be discussed below to understand the concept in a more practical way.\n",
    "\n",
    "For the subject of ***unsupervized learning***, a car market dataset obtained in Belarus in 2019 by Kirill Lepchenkov was chosen. This dataset can be consulted at the following link: https://www.kaggle.com/datasets/lepchenkov/usedcarscatalog\n",
    "\n",
    "Each row in the table corresponds to a transaction, that is, in this case, an advertisement for the sale of a particular car, and the columns contain various information about the product. The following table presents a small representative excerpt from the dataset for better understanding:\n",
    "\n",
    "| Brand         |  Model  | Transmission |  color    |  mileage       | year | fuel         | capacity    |  chassi |\n",
    "|---------------|---------|--------------|-----------|----------------|------|--------------|-------------|---------|\n",
    "| Mercedes-Benz |  190    |   manual     |  white    |    300.000     | 1985 |    diesel    |  2.0        |  sedan  |\n",
    "| Mercedes-Benz |  S500   |  automatic   |  gray     |    219.000     | 2011 |   gasoline   |  4.7        |  sedan  |\n",
    "| Mercedes-Benz | S63 AMG |  automatic   |    blue   |    76.700      | 2008 |   gasoline   |  6.2        |  sedan  |\n",
    "| Porsche       |   911   |   manual     |    blue   |    197.000     | 2004 |   gasoline   |  3.6        |  sedan  |\n",
    "| Ford          | Transit |   manual     |  white    |    486.000     | 1997 |    diesel    |  2.5        |   van   |\n",
    "\n",
    "\n",
    "As you can see, each car has **numerical and qualitative attributes**. This will be useful to address different unsupervised learning methods.\n",
    "\n",
    "\n",
    "⚠️ The **cars.csv** file must be placed in the **datasets** folder in the same location on the notebook."
   ]
  },
  {
   "cell_type": "markdown",
   "metadata": {},
   "source": [
    "___\n",
    "## Libraries\n",
    "\n",
    "Obviously, several libraries will be important to apply the machine learning domain. To begin with, it will be important to use the **pandas** library to work with data manipulation and analysis (data structures associated with the dataset) and the **numpy** library for numerical computation of matrices. These two libraries are an important basis for the work as everything is based on data and its computation.\n",
    "\n",
    "The installation of these libraries must be previously carried out in the usage environment through **PIP** as follows:\n",
    "* `pip install pandas`\n",
    "* `pip install numpy`\n",
    "\n",
    "More information about the libraries can be found at the following links:\n",
    "* pandas - https://pandas.pydata.org/\n",
    "* numpy - https://numpy.org/"
   ]
  },
  {
   "cell_type": "code",
   "execution_count": null,
   "metadata": {},
   "outputs": [],
   "source": [
    "import pandas as pd\n",
    "import numpy as np"
   ]
  },
  {
   "cell_type": "markdown",
   "metadata": {},
   "source": [
    "Next, it is necessary to call several **sklearn** libraries for *machine learning* algorithms. In this case, **StandardScaler** will be called for data normalization and **KMeans** for implementing the *K-Means* algorithm. For association rules, another specific library will be discussed.\n",
    "\n",
    "To include the libraries, you will need to previously install sklearn:\n",
    "* `pip install -U scikit-learn`\n",
    "\n",
    "You can find more information about sklearn and associated libraries at the following links:\n",
    "* sklearn - https://scikit-learn.org/stable/\n",
    "* sklearn/StandardScaler- https://scikit-learn.org/stable/modules/generated/sklearn.preprocessing.StandardScaler.html\n",
    "* sklearn/KMeans - https://scikit-learn.org/stable/modules/generated/sklearn.cluster.KMeans.html"
   ]
  },
  {
   "cell_type": "code",
   "execution_count": 39,
   "metadata": {},
   "outputs": [],
   "source": [
    "from sklearn.preprocessing import StandardScaler\n",
    "from sklearn.cluster import KMeans"
   ]
  },
  {
   "cell_type": "markdown",
   "metadata": {},
   "source": [
    "Lastly, the graphical visualization libraries are called. One of them allows three-dimensional visualization while the others present two-dimensional figures.\n",
    "\n",
    "The inclusion of these libraries requires the prior installation of the following packages:\n",
    "* `pip install mpl-toolkits.clifford`\n",
    "* `pip install matplotlib`\n",
    "* `pip install seaborn`\n",
    "\n",
    "You can find more information about the libraries at the following links:\n",
    "* matpotlib/mplot3d - https://matplotlib.org/stable/api/toolkits/mplot3d.html\n",
    "* matpotlib/plot - https://matplotlib.org/stable/api/_as_gen/matplotlib.pyplot.plot.html\n",
    "* seborn - https://seaborn.pydata.org/"
   ]
  },
  {
   "cell_type": "code",
   "execution_count": 40,
   "metadata": {},
   "outputs": [],
   "source": [
    "from mpl_toolkits.mplot3d import Axes3D\n",
    "from matplotlib import pyplot as plt\n",
    "import seaborn as sns"
   ]
  },
  {
   "cell_type": "markdown",
   "metadata": {},
   "source": [
    "___\n",
    "## Unsupervised Learning - Problem 1\n",
    "\n",
    "The first unsupervised learning problem involves **organizing the car market into groups**. That is, according to some key characteristics of each car for sale on the market, the aim is to **organize groups that constitute a better or worse purchase opportunity**. This will help the user to choose a car taking into account that certain groups are not so favorable, thus guaranteeing a **good deal**.\n",
    "\n",
    "To achieve this objective, the **K-Means** clustering algorithm will be used. This algorithm therefore does what it is intended to do, and divides a set of data into groups according to their similarity.\n",
    "\n",
    "The way K-Means works is simple. We start by defining a value k that corresponds to the number of clusters (groups) that the data will have. There are methods that help to obtain a suitable k value for the data and will be discussed later. After defining the number of groups, there will be k centers (seeds) and these will be \"released\" randomly into the data set. The data closest to each of them will be associated with the centers and then the center will be repositioned according to the midpoint of this data. This is a quick and simple explanation of K-Means, but you can always consult more detailed information, for example, on [wikipedia](https://en.wikipedia.org/wiki/K-means_clustering) or consult this small [practical example](https://www.datacamp.com/tutorial/k-means-clustering-python).\n",
    "\n",
    "**The problem will then be divided into the following phases:**\n",
    "\n",
    "1. Data processing, selection and preparation\n",
    "\n",
    "2. Data visualization\n",
    "\n",
    "3. Data normalization\n",
    "\n",
    "4. Search for the best number of clusters\n",
    "\n",
    "5. Clustering with K-Means\n",
    "\n",
    "6. Visualization of clusters\n",
    "\n",
    "7. Integration of clusters into the dataset\n",
    "\n",
    "8. Three-dimensional visualization of clusters"
   ]
  },
  {
   "cell_type": "markdown",
   "metadata": {},
   "source": [
    "___\n",
    "### Choice, processing and preparation of data\n",
    "\n",
    "An important aspect at this stage is the choice of data to be used for the algorithm. It is necessary to understand that only numerical attributes will be accepted and therefore a wide range of them can be discarded. But beyond this restriction, it is necessary to choose the data relevant to the problem. In this context, some of the most important aspects to consider when buying a car are, obviously, the mileage, the year of the car and the price. The relationship between this data should allow us to obtain a business opportunity relationship in the context of the car market.\n",
    "\n",
    "Using *pandas*, the first thing that will be done is to obtain the cars dataset, located in the same directory in a \"datasets\" folder. The \"read_csv\" function therefore allows to obtain data from the cars dataset called \"cars.csv\" and also specifies the columns of the dataset that are wanted to obtain through \"usecols\". This data will be stored in a structure called a \"data frame\".\n",
    "\n",
    "Another more subtle but important part is also the removal of lines/transactions whose data is incomplete. It is not possible to work with cars if at least one of the variables relevant to the algorithm is unknown. In this way, through the \"dropna\" function it is possible to carry out this filtering and ensure that there are no errors in the data.\n",
    "\n",
    "Finally, it is possible to briefly visualize the data structure created using the pandas \"head\" function."
   ]
  },
  {
   "cell_type": "code",
   "execution_count": 41,
   "metadata": {},
   "outputs": [
    {
     "data": {
      "text/html": [
       "<div>\n",
       "<style scoped>\n",
       "    .dataframe tbody tr th:only-of-type {\n",
       "        vertical-align: middle;\n",
       "    }\n",
       "\n",
       "    .dataframe tbody tr th {\n",
       "        vertical-align: top;\n",
       "    }\n",
       "\n",
       "    .dataframe thead th {\n",
       "        text-align: right;\n",
       "    }\n",
       "</style>\n",
       "<table border=\"1\" class=\"dataframe\">\n",
       "  <thead>\n",
       "    <tr style=\"text-align: right;\">\n",
       "      <th></th>\n",
       "      <th>odometer_value</th>\n",
       "      <th>year_produced</th>\n",
       "      <th>price_usd</th>\n",
       "    </tr>\n",
       "  </thead>\n",
       "  <tbody>\n",
       "    <tr>\n",
       "      <th>0</th>\n",
       "      <td>190000</td>\n",
       "      <td>2010</td>\n",
       "      <td>10900.00</td>\n",
       "    </tr>\n",
       "    <tr>\n",
       "      <th>1</th>\n",
       "      <td>290000</td>\n",
       "      <td>2002</td>\n",
       "      <td>5000.00</td>\n",
       "    </tr>\n",
       "    <tr>\n",
       "      <th>2</th>\n",
       "      <td>402000</td>\n",
       "      <td>2001</td>\n",
       "      <td>2800.00</td>\n",
       "    </tr>\n",
       "    <tr>\n",
       "      <th>3</th>\n",
       "      <td>10000</td>\n",
       "      <td>1999</td>\n",
       "      <td>9999.00</td>\n",
       "    </tr>\n",
       "    <tr>\n",
       "      <th>4</th>\n",
       "      <td>280000</td>\n",
       "      <td>2001</td>\n",
       "      <td>2134.11</td>\n",
       "    </tr>\n",
       "  </tbody>\n",
       "</table>\n",
       "</div>"
      ],
      "text/plain": [
       "   odometer_value  year_produced  price_usd\n",
       "0          190000           2010   10900.00\n",
       "1          290000           2002    5000.00\n",
       "2          402000           2001    2800.00\n",
       "3           10000           1999    9999.00\n",
       "4          280000           2001    2134.11"
      ]
     },
     "execution_count": 41,
     "metadata": {},
     "output_type": "execute_result"
    }
   ],
   "source": [
    "# Load the dataset\n",
    "df = pd.read_csv('cars.csv', usecols=['odometer_value', 'year_produced', 'price_usd'])\n",
    "\n",
    "# Remove rows with NaN in any column\n",
    "df = df.dropna().copy()\n",
    "\n",
    "# Print the first rows of the data frame\n",
    "df.head()"
   ]
  },
  {
   "cell_type": "markdown",
   "metadata": {},
   "source": [
    "___\n",
    "### Data visualization\n",
    "\n",
    "The graph corresponding to the chosen data structure will now be represented. Here it will be possible to view the relationship between mileage and the year of the car and the price. It can be seen that, as expected, the price is higher in the area where the car is newer and has fewer kilometers."
   ]
  },
  {
   "cell_type": "code",
   "execution_count": 42,
   "metadata": {},
   "outputs": [
    {
     "data": {
      "text/plain": [
       "<AxesSubplot:xlabel='year_produced', ylabel='odometer_value'>"
      ]
     },
     "execution_count": 42,
     "metadata": {},
     "output_type": "execute_result"
    },
    {
     "data": {
      "image/png": "[encoded data removed]",
      "text/plain": [
       "<Figure size 432x288 with 1 Axes>"
      ]
     },
     "metadata": {
      "needs_background": "light"
     },
     "output_type": "display_data"
    }
   ],
   "source": [
    "sns.scatterplot(data = df, x = 'year_produced', y = 'odometer_value', hue = 'price_usd')"
   ]
  },
  {
   "cell_type": "markdown",
   "metadata": {},
   "source": [
    "___\n",
    "### Data normalization\n",
    "\n",
    "It is also very important to keep the different values of the structure's attributes on the same scale to facilitate data computation. To do this, normalization is performed, which places all values centered around the value 0 with standard deviation 1. There are other normalizations that place all data, for example, between 0 and 1, but in this case will be used StandardScaler for the normalization of the car data frame.\n",
    "\n",
    "At the end it is possible to briefly visualize the transformation of the data."
   ]
  },
  {
   "cell_type": "code",
   "execution_count": 43,
   "metadata": {},
   "outputs": [
    {
     "name": "stdout",
     "output_type": "stream",
     "text": [
      "[[-0.43260362  0.87485665  0.66272301]\n",
      " [ 0.30230894 -0.11700687 -0.25512656]\n",
      " [ 1.125411   -0.24098981 -0.59737555]\n",
      " [-1.75544621 -0.48895569  0.52255649]\n",
      " [ 0.22881768 -0.24098981 -0.70096654]]\n"
     ]
    }
   ],
   "source": [
    "# Normalize the data\n",
    "scaler = StandardScaler()\n",
    "scaler.fit(df[['odometer_value', 'year_produced', 'price_usd']])\n",
    "df_normalized = scaler.transform(df[['odometer_value', 'year_produced', 'price_usd']])\n",
    "print(df_normalized[:5])"
   ]
  },
  {
   "cell_type": "markdown",
   "metadata": {},
   "source": [
    "___\n",
    "### Search for the best number of clusters with the Elbow method\n",
    "\n",
    "The application part of the K-Means method to obtain groups of vehicles will now begin. The first step is to define the **value of k, which corresponds to the number of groups/clusters** that the data will have. To do this, the **Elbow method** will be used, which will generate a graph in the form of a **decreasing hyperbola**. In this method, the value of k is chosen based on graph analysis. As the name of the method indicates, **the best k will be the number on the x-axis associated with the area where the angle of the hyperbola is greatest** (as if it were at the elbow of an arm)."
   ]
  },
  {
   "cell_type": "code",
   "execution_count": 45,
   "metadata": {},
   "outputs": [
    {
     "data": {
      "image/png": "[encoded data removed]",
      "text/plain": [
       "<Figure size 720x432 with 1 Axes>"
      ]
     },
     "metadata": {
      "needs_background": "light"
     },
     "output_type": "display_data"
    }
   ],
   "source": [
    "# Calculate the within-cluster sum of square across different cluster counts\n",
    "inertia = []\n",
    "for i in range(1, 11):\n",
    "    kmeans = KMeans(n_clusters=i, random_state=42, n_init = 10)\n",
    "    kmeans.fit(df)\n",
    "    inertia.append(kmeans.inertia_)# Plot the elbow graph\n",
    "    \n",
    "plt.figure(figsize=(10, 6))\n",
    "plt.plot(range(1, 11), inertia, marker='o')\n",
    "plt.title('Elbow Method For Optimal k')\n",
    "plt.xlabel('Number of clusters')\n",
    "plt.ylabel('Within-cluster Sum of Square')\n",
    "plt.show()"
   ]
  },
  {
   "cell_type": "markdown",
   "metadata": {},
   "source": [
    "As can be seen, the area of the graph that may correspond to the \"elbow\", although subjective, could be the value 3. Therefore, **k = 3**, therefore there are 3 groups in the data set.\n",
    "\n",
    "It is worth mentioning that it is okay to experiment with different values of K based on the \"elbow\". This was done in this case and the conclusion reached is that it would make more sense to use 3 clusters due to the fact that a greater number of groups significantly increased the complexity of the situation."
   ]
  },
  {
   "cell_type": "markdown",
   "metadata": {},
   "source": [
    "___\n",
    "### Clustering with K-Means\n",
    "\n",
    "Now, the K-Means algorithm will be applied to the data set, knowing that k will be equal to 3. The sklearn functions were used to execute this algorithm, and a random initial state equal to 0 was also defined, which means that every time you run this code, the results will always be the same. However, it will be interesting to vary this value to any integer to obtain slightly different results.\n",
    "\n",
    "In the end, the clusters are adjusted in number so that instead of starting at 0, they start at 1 in order to be more readable in a way."
   ]
  },
  {
   "cell_type": "code",
   "execution_count": 47,
   "metadata": {},
   "outputs": [],
   "source": [
    "# Elbow is at three clusters           \n",
    "kmeans = KMeans(n_clusters=3, random_state=0, n_init=10)\n",
    "clusters = kmeans.fit_predict(df_normalized)\n",
    "\n",
    "# Adjusting clusters\n",
    "adj_clusters = [x + 1 for x in clusters]"
   ]
  },
  {
   "cell_type": "markdown",
   "metadata": {},
   "source": [
    "___\n",
    "### Cluster Visualization\n",
    "\n",
    "K-Means was run and the results were stored in memory. It now remains to visualize the clustering result to get an idea of the similarity between the groups.\n",
    "**pyplot** from **matpotlib** was used for visualization."
   ]
  },
  {
   "cell_type": "code",
   "execution_count": 48,
   "metadata": {},
   "outputs": [
    {
     "data": {
      "image/png": "[encoded data removed]",
      "text/plain": [
       "<Figure size 720x432 with 1 Axes>"
      ]
     },
     "metadata": {
      "needs_background": "light"
     },
     "output_type": "display_data"
    }
   ],
   "source": [
    "# Choose two dimensions to plot (e.g., odometer_value and year_produced)\n",
    "plt.figure(figsize=(10, 6))\n",
    "plt.scatter(df_normalized[:,0], df_normalized[:,1], c=adj_clusters, cmap='viridis', marker='o')\n",
    "plt.title('Visualization of clustered data', fontsize=14)\n",
    "plt.xlabel('odometer_value', fontsize=12)\n",
    "plt.ylabel('year_produced', fontsize=12)\n",
    "plt.show()"
   ]
  },
  {
   "cell_type": "markdown",
   "metadata": {},
   "source": [
    "From the graph it can be seen firstly that the normalized data values were used, therefore it is not possible to establish a specific link with years and mileage. However, it is possible to see that in general three groups were obtained that appear sequentially almost horizontally along the vertical axis.\n",
    "\n",
    "It can be interpreted that a group was defined that covers older cars and cars with many kilometers. Another group includes relatively recent cars but without excessive mileage and the last group generally represents the most recent cars with fewer kilometers. We will further confirm these conclusions with statistical data.\n",
    "\n",
    "These clusters allow the user to have a better idea of the purchase to be made according to their needs. Initially, a buyer usually prefers a relatively recent car without many kilometers, so they can narrow their search further in the last two clusters (blue and purple)."
   ]
  },
  {
   "cell_type": "markdown",
   "metadata": {},
   "source": [
    "___\n",
    "### Cluster analysis\n",
    "\n",
    "We will analyze in more detail what the division of groups made by k-means represents. Important characteristics have already been analyzed in the previous graph and, therefore, we will now investigate further what result was obtained for each of the attributes.\n",
    "\n",
    "* Firstly, to observe each cluster in terms of prices, we will use the boxplot:"
   ]
  },
  {
   "cell_type": "code",
   "execution_count": 49,
   "metadata": {},
   "outputs": [
    {
     "name": "stdout",
     "output_type": "stream",
     "text": [
      "     count          mean          std     min      25%      50%      75%  \\\n",
      "1  19031.0   2700.374016  1972.877713     1.0   1200.0   2250.0   3700.0   \n",
      "2   4877.0  19425.473393  7563.155276  9000.0  14400.0  17000.0  22000.0   \n",
      "3  14623.0   7502.965998  3045.520429     1.0   5300.0   7400.0   9500.0   \n",
      "\n",
      "       max  \n",
      "1  30000.0  \n",
      "2  50000.0  \n",
      "3  18500.0  \n"
     ]
    },
    {
     "data": {
      "image/png": "[encoded data removed]",
      "text/plain": [
       "<Figure size 432x288 with 1 Axes>"
      ]
     },
     "metadata": {
      "needs_background": "light"
     },
     "output_type": "display_data"
    }
   ],
   "source": [
    "sns.boxplot(x = adj_clusters, y = df['price_usd'])\n",
    "summary_stats = df.groupby(adj_clusters)['price_usd'].describe()\n",
    "print(summary_stats)"
   ]
  },
  {
   "cell_type": "markdown",
   "metadata": {},
   "source": [
    "As can be seen from the graph and adjacent statistics, the 1st cluster appears to contain the cars with the lowest price (between 5000 and 9000 USD), and on average a car in this group will cost around 2634.94 USD.\n",
    "\n",
    "As for the 2nd cluster, prices vary between a minimum of 7587.97 USD and 50000 USD, with the high standard deviation indicating that there is a wide range of prices in this group. On average, a car from this group costs 18382.62 USD.\n",
    "\n",
    "The 3rd cluster is the one with the lowest prices, ranging from 1200 to 3600 USD. The standard deviation indicates that in this group there is not such a sudden price variation. On average, a car from this group costs 2634.94 USD.\n",
    "\n",
    "* Next, we will evaluate the dispersion of car mileage between each cluster:"
   ]
  },
  {
   "cell_type": "code",
   "execution_count": 50,
   "metadata": {},
   "outputs": [
    {
     "name": "stdout",
     "output_type": "stream",
     "text": [
      "     count           mean            std  min       25%       50%       75%  \\\n",
      "1  19031.0  329176.702118  129832.360444  1.0  265000.0  320000.0  380000.0   \n",
      "2   4877.0  107462.287882   74126.156683  0.0   50000.0  104000.0  157000.0   \n",
      "3  14623.0  191502.973945   81641.371817  0.0  140000.0  193000.0  247000.0   \n",
      "\n",
      "         max  \n",
      "1  1000000.0  \n",
      "2   535000.0  \n",
      "3   600000.0  \n"
     ]
    },
    {
     "data": {
      "image/png": "[encoded data removed]",
      "text/plain": [
       "<Figure size 432x288 with 1 Axes>"
      ]
     },
     "metadata": {
      "needs_background": "light"
     },
     "output_type": "display_data"
    }
   ],
   "source": [
    "sns.boxplot(x = adj_clusters, y = df['odometer_value'],color='lightgreen')\n",
    "summary_stats = df.groupby(adj_clusters)['odometer_value'].describe()\n",
    "print(summary_stats)"
   ]
  },
  {
   "cell_type": "markdown",
   "metadata": {},
   "source": [
    "As for mileage, cars in cluster 1 have an average of 198,271 km, those in cluster 2 109,480 km and those in the 3rd cluster 332,031 km. Once again, the standard deviations of the 3rd group indicate a wider distribution of mileage in these cars. Furthermore, it is possible to see that there are more outliars in this group, so it can be concluded that it is the group that \"embraces\" all those who do not fit into any of the groups so well.\n",
    "\n",
    "* Finally, the year of the cars is evaluated using the extreme and quartile diagram:"
   ]
  },
  {
   "cell_type": "code",
   "execution_count": 51,
   "metadata": {},
   "outputs": [
    {
     "name": "stdout",
     "output_type": "stream",
     "text": [
      "     count         mean       std     min     25%     50%     75%     max\n",
      "1  19031.0  1996.592927  5.400373  1942.0  1994.0  1998.0  2000.0  2012.0\n",
      "2   4877.0  2014.022760  3.186971  1978.0  2012.0  2014.0  2016.0  2019.0\n",
      "3  14623.0  2007.513916  3.970112  1986.0  2005.0  2008.0  2010.0  2019.0\n"
     ]
    },
    {
     "data": {
      "image/png": "[encoded data removed]",
      "text/plain": [
       "<Figure size 432x288 with 1 Axes>"
      ]
     },
     "metadata": {
      "needs_background": "light"
     },
     "output_type": "display_data"
    }
   ],
   "source": [
    "sns.boxplot(x = adj_clusters, y = df['year_produced'],color='salmon')\n",
    "summary_stats = df.groupby(adj_clusters)['year_produced'].describe()\n",
    "print(summary_stats)"
   ]
  },
  {
   "cell_type": "markdown",
   "metadata": {},
   "source": [
    "The first group brings together cars from 1986 to 2019, with an average of 207.\n",
    "\n",
    "The 2nd cluster has cars from 1978 to 2019, apparently covering a few more years than the 1st. However, it is possible to observe that these older cars are considered outliers in the graph and that, in addition, on average these cars are from 2014.\n",
    "\n",
    "Finally, the 3rd cluster contains cars from 1942 to 2012, concluding that it is the group of old cars. On average, a car in this group is from 1996 and, given the standard deviation, this is the group with the broadest data.\n",
    "\n",
    "Therefore, with all the data analyzed, we were able to conclude that there is a group (Cluster 3) that includes older cars, with more kilometers and cheaper, another group (cluster 2) that has more expensive cars, with fewer kilometers and more recent and a final group (cluster 1) that includes cars that are in the middle. In other words, cluster 1 groups cars with prices that are neither very high nor very low. In terms of mileage, this generally covers cars without many kilometers but also without a few and in terms of the year, these cars are relatively recent."
   ]
  },
  {
   "cell_type": "markdown",
   "metadata": {},
   "source": [
    "___\n",
    "### Cluster integration in the Dataset\n",
    "\n",
    "To provide the new cluster data to the user, you need to add it to the dataset. As such, a new column was added to the dataframe, which indicates the index associated with each cluster.\n",
    "\n",
    "It is possible to see from the representation of the data that the system assigned the following numbers to the clusters:\n",
    "\n",
    "* **Cluster 1** - In general, it corresponds to relatively recent cars **[Normal]**\n",
    "* **Cluster 2** - In general, it corresponds to the group of recent cars with few kilometers **[Recent]**\n",
    "* **Cluster 3** - In general, it corresponds to older cars with more kilometers **[Classics]**"
   ]
  },
  {
   "cell_type": "code",
   "execution_count": 52,
   "metadata": {},
   "outputs": [
    {
     "name": "stdout",
     "output_type": "stream",
     "text": [
      "   odometer_value  year_produced  price_usd  cluster\n",
      "0          190000           2010   10900.00        3\n",
      "1          290000           2002    5000.00        1\n",
      "2          402000           2001    2800.00        1\n",
      "3           10000           1999    9999.00        3\n",
      "4          280000           2001    2134.11        1\n",
      "5          132449           2011   14700.00        2\n",
      "6          318280           1998    3000.00        1\n",
      "7          350000           2004    4500.00        1\n",
      "8          179000           2010   12900.00        3\n",
      "9          571317           1999    4200.00        1\n"
     ]
    }
   ],
   "source": [
    "# Adding cluster column to the dataframe\n",
    "df['cluster'] = adj_clusters\n",
    "\n",
    "# Now let's see the first 5 instances of the updated dataset\n",
    "print(df.head(10))"
   ]
  },
  {
   "cell_type": "markdown",
   "metadata": {},
   "source": [
    "The previous resolution alone would be sufficient for a simple analysis. However, the option was taken to add a column to the original dataset indicating the type of choice considering the cluster corresponding to each car.\n",
    "\n",
    "As such, a copy of the entire original dataset was made, and the cluster column was added, with the particularity that the numbers were mapped according to their meaning."
   ]
  },
  {
   "cell_type": "code",
   "execution_count": 54,
   "metadata": {},
   "outputs": [
    {
     "data": {
      "text/html": [
       "<div>\n",
       "<style scoped>\n",
       "    .dataframe tbody tr th:only-of-type {\n",
       "        vertical-align: middle;\n",
       "    }\n",
       "\n",
       "    .dataframe tbody tr th {\n",
       "        vertical-align: top;\n",
       "    }\n",
       "\n",
       "    .dataframe thead th {\n",
       "        text-align: right;\n",
       "    }\n",
       "</style>\n",
       "<table border=\"1\" class=\"dataframe\">\n",
       "  <thead>\n",
       "    <tr style=\"text-align: right;\">\n",
       "      <th></th>\n",
       "      <th>manufacturer_name</th>\n",
       "      <th>model_name</th>\n",
       "      <th>transmission</th>\n",
       "      <th>color</th>\n",
       "      <th>odometer_value</th>\n",
       "      <th>year_produced</th>\n",
       "      <th>engine_fuel</th>\n",
       "      <th>engine_has_gas</th>\n",
       "      <th>engine_type</th>\n",
       "      <th>engine_capacity</th>\n",
       "      <th>...</th>\n",
       "      <th>feature_2</th>\n",
       "      <th>feature_3</th>\n",
       "      <th>feature_4</th>\n",
       "      <th>feature_5</th>\n",
       "      <th>feature_6</th>\n",
       "      <th>feature_7</th>\n",
       "      <th>feature_8</th>\n",
       "      <th>feature_9</th>\n",
       "      <th>duration_listed</th>\n",
       "      <th>cluster</th>\n",
       "    </tr>\n",
       "  </thead>\n",
       "  <tbody>\n",
       "    <tr>\n",
       "      <th>0</th>\n",
       "      <td>Subaru</td>\n",
       "      <td>Outback</td>\n",
       "      <td>automatic</td>\n",
       "      <td>silver</td>\n",
       "      <td>190000</td>\n",
       "      <td>2010</td>\n",
       "      <td>gasoline</td>\n",
       "      <td>False</td>\n",
       "      <td>gasoline</td>\n",
       "      <td>2.5</td>\n",
       "      <td>...</td>\n",
       "      <td>True</td>\n",
       "      <td>True</td>\n",
       "      <td>False</td>\n",
       "      <td>True</td>\n",
       "      <td>False</td>\n",
       "      <td>True</td>\n",
       "      <td>True</td>\n",
       "      <td>True</td>\n",
       "      <td>16</td>\n",
       "      <td>Classic</td>\n",
       "    </tr>\n",
       "    <tr>\n",
       "      <th>1</th>\n",
       "      <td>Subaru</td>\n",
       "      <td>Outback</td>\n",
       "      <td>automatic</td>\n",
       "      <td>blue</td>\n",
       "      <td>290000</td>\n",
       "      <td>2002</td>\n",
       "      <td>gasoline</td>\n",
       "      <td>False</td>\n",
       "      <td>gasoline</td>\n",
       "      <td>3.0</td>\n",
       "      <td>...</td>\n",
       "      <td>False</td>\n",
       "      <td>False</td>\n",
       "      <td>True</td>\n",
       "      <td>True</td>\n",
       "      <td>False</td>\n",
       "      <td>False</td>\n",
       "      <td>False</td>\n",
       "      <td>True</td>\n",
       "      <td>83</td>\n",
       "      <td>Normal</td>\n",
       "    </tr>\n",
       "    <tr>\n",
       "      <th>2</th>\n",
       "      <td>Subaru</td>\n",
       "      <td>Forester</td>\n",
       "      <td>automatic</td>\n",
       "      <td>red</td>\n",
       "      <td>402000</td>\n",
       "      <td>2001</td>\n",
       "      <td>gasoline</td>\n",
       "      <td>False</td>\n",
       "      <td>gasoline</td>\n",
       "      <td>2.5</td>\n",
       "      <td>...</td>\n",
       "      <td>False</td>\n",
       "      <td>False</td>\n",
       "      <td>False</td>\n",
       "      <td>False</td>\n",
       "      <td>False</td>\n",
       "      <td>False</td>\n",
       "      <td>True</td>\n",
       "      <td>True</td>\n",
       "      <td>151</td>\n",
       "      <td>Normal</td>\n",
       "    </tr>\n",
       "  </tbody>\n",
       "</table>\n",
       "<p>3 rows × 31 columns</p>\n",
       "</div>"
      ],
      "text/plain": [
       "  manufacturer_name model_name transmission   color  odometer_value  \\\n",
       "0            Subaru    Outback    automatic  silver          190000   \n",
       "1            Subaru    Outback    automatic    blue          290000   \n",
       "2            Subaru   Forester    automatic     red          402000   \n",
       "\n",
       "   year_produced engine_fuel  engine_has_gas engine_type  engine_capacity  \\\n",
       "0           2010    gasoline           False    gasoline              2.5   \n",
       "1           2002    gasoline           False    gasoline              3.0   \n",
       "2           2001    gasoline           False    gasoline              2.5   \n",
       "\n",
       "   ... feature_2  feature_3 feature_4 feature_5  feature_6  feature_7  \\\n",
       "0  ...      True       True     False      True      False       True   \n",
       "1  ...     False      False      True      True      False      False   \n",
       "2  ...     False      False     False     False      False      False   \n",
       "\n",
       "  feature_8  feature_9  duration_listed  cluster  \n",
       "0      True       True               16  Classic  \n",
       "1     False       True               83   Normal  \n",
       "2      True       True              151   Normal  \n",
       "\n",
       "[3 rows x 31 columns]"
      ]
     },
     "execution_count": 54,
     "metadata": {},
     "output_type": "execute_result"
    }
   ],
   "source": [
    "# Load the original dataset (copy)\n",
    "df_new = pd.read_csv('cars.csv')\n",
    "\n",
    "# Remove rows with NaN in specific columns to match the original dataframe\n",
    "columns_to_check = ['odometer_value', 'year_produced', 'price_usd']\n",
    "df_new = df_new.dropna(subset=columns_to_check).copy()\n",
    "\n",
    "# Map the cluster number to a meaning\n",
    "cluster_names_map = {\n",
    "    1: 'Normal',\n",
    "    2: 'Recent',\n",
    "    3: 'Classic'\n",
    "}\n",
    "\n",
    "# Create a new column with the cluster name\n",
    "df_new['cluster'] = pd.Series(adj_clusters).map(cluster_names_map)\n",
    "\n",
    "# Print the first rows of the data frame\n",
    "df_new.head(3)"
   ]
  },
  {
   "cell_type": "markdown",
   "metadata": {},
   "source": [
    "To complete this phase, a .csv file was created based on this new data structure, so that in a more real situation, for example, on a car sales website, this new data can be incorporated to help the user make their choice."
   ]
  },
  {
   "cell_type": "code",
   "execution_count": 55,
   "metadata": {},
   "outputs": [
    {
     "name": "stdout",
     "output_type": "stream",
     "text": [
      "Successfully created a new file!\n"
     ]
    }
   ],
   "source": [
    "# Import to verify files on the directory\n",
    "import os\n",
    "\n",
    "# Create a new .csv file with the dataset now with the clusters\n",
    "output_file = 'cars_with_clusters.csv'\n",
    "\n",
    "# Check if the file already exists and delete it\n",
    "if os.path.exists(output_file):\n",
    "    os.remove(output_file)\n",
    "    print('Successfully removed the old file!')\n",
    "\n",
    "# Save the DataFrame to a new CSV file\n",
    "df_new.to_csv(output_file, index=False)\n",
    "print('Successfully created a new file!')"
   ]
  },
  {
   "cell_type": "markdown",
   "metadata": {},
   "source": [
    "Now that the new dataset has been created with the added clusters, the entire distribution of data distinguished according to each group defined by the algorithm will be graphically represented. It is possible to see again that the good choices of cars to buy are more or less found among relatively recent cars without very high mileage values."
   ]
  },
  {
   "cell_type": "code",
   "execution_count": 56,
   "metadata": {},
   "outputs": [
    {
     "data": {
      "text/plain": [
       "<AxesSubplot:xlabel='year_produced', ylabel='odometer_value'>"
      ]
     },
     "execution_count": 56,
     "metadata": {},
     "output_type": "execute_result"
    },
    {
     "data": {
      "image/png": "[encoded data removed]",
      "text/plain": [
       "<Figure size 432x288 with 1 Axes>"
      ]
     },
     "metadata": {
      "needs_background": "light"
     },
     "output_type": "display_data"
    }
   ],
   "source": [
    "sns.scatterplot(data = df_new, x = 'year_produced', y = 'odometer_value', hue = 'cluster')"
   ]
  },
  {
   "cell_type": "markdown",
   "metadata": {},
   "source": [
    "___\n",
    "### Three-dimensional visualization of clusters\n",
    "\n",
    "Finally, a three-dimensional graph will be presented with all the data separated by colors that represent each cluster. This way it is possible to have a more accurate idea of how the division was actually done by the algorithm."
   ]
  },
  {
   "cell_type": "code",
   "execution_count": 57,
   "metadata": {},
   "outputs": [
    {
     "data": {
      "image/png": "[encoded data removed]",
      "text/plain": [
       "<Figure size 864x648 with 1 Axes>"
      ]
     },
     "metadata": {
      "needs_background": "light"
     },
     "output_type": "display_data"
    }
   ],
   "source": [
    "# Create a 3D figure\n",
    "fig = plt.figure(figsize=(12, 9))\n",
    "ax = fig.add_subplot(111, projection='3d')\n",
    "\n",
    "# Scatter plot using the first three features of the Cars dataset\n",
    "ax.scatter(df_normalized[:,0],  # Odometer_value\n",
    "           df_normalized[:,1],  # year_produced\n",
    "           df_normalized[:,2],  # price_usd\n",
    "           c=adj_clusters,      # Use cluster labels as color encoding\n",
    "           cmap='viridis', \n",
    "           marker='o')\n",
    "\n",
    "# Set labels according to the features we used\n",
    "ax.set_xlabel('odometer_value')\n",
    "ax.set_ylabel('year_produced')\n",
    "ax.set_zlabel('price_usd')\n",
    "\n",
    "# Title of the plot\n",
    "ax.set_title('3D visualization of Cars Clusters')\n",
    "\n",
    "# Show the plot\n",
    "plt.show()"
   ]
  },
  {
   "cell_type": "markdown",
   "metadata": {},
   "source": [
    "___\n",
    "### **Conclusion of problem 1**\n",
    "\n",
    "First of all, it can be stated that the execution of the K-Means clustering unsupervised learning method was easy and intuitive to use thanks to the great work carried out by the authors and collaborators of the scy-kit learn library. And for that same reason, here is a special thanks to this entity!\n",
    "\n",
    "The main conclusion that can be drawn from this small practice is that the K-Means algorithm proves to be a simple, reliable and fast solution when it comes to identifying groups with similarities in a large group of data. The algorithm was able to divide the dataset of cars into viable or non-viable options when it comes to purchasing cars and could without a doubt become a good candidate for solving problems similar to this one but of greater complexity. Therefore, this practice allowed us to acquire some precious basic knowledge on this topic and could undoubtedly serve as a basis for other similar projects.\n",
    "\n",
    "Regarding the results specifically, it can be concluded that K-Means made it possible to identify groups of cars that correspond to **choices of relatively recent cars with not very high mileage (cluster 1), choices of recent cars with fewer kilometers (cluster 2) and choices of older cars with more kilometers (cluster 3)**. In a real context, this identification would be crucial to **guide less experienced users to make the right purchase of a car**, for example on a car sales website."
   ]
  },
  {
   "cell_type": "markdown",
   "metadata": {},
   "source": [
    "----\n",
    "## Unsupervised Learning - Problem 2\n",
    "\n",
    "The second unsupervised learning problem involves identifying which **characteristics are inherent to the car based on a specific attribute**. In other words, the user intends to buy a car with a characteristic (for example, a gasoline car) and it is necessary to identify what attributes the car could have taking into account that characteristic (it could have a manual gearbox, be a sedan,... .).\n",
    "\n",
    "For this, the so-called **association rules*** will be used, namely the **Apriori algorithm**.\n",
    "\n",
    "**Association rules find patterns between different attributes of a dataset**. In other words, it finds the probability of the occurrence of an attribute taking into account the actual occurrence of another attribute. These algorithms are more oriented towards databases with transaction data, that is, occurrences. This in practical terms means that the dataset to be used must have **columns (attributes)** that occur or do not occur through the definition of **True or False**.\n",
    "\n",
    "The **Apriori algorithm** finds frequent sets, and when these have occurrences lower than the established threshold, they are suppressed. This threshold is called **minimum support** and can be varied according to the intended application. There is some complexity at a theoretical level regarding this topic, so it is strongly recommended to read the following [article on medium](https://medium.com/analytics-vidhya/association-analysis-in-python-2b955d0180c) and also this [practical solution](https://rasbt.github.io/mlxtend/user_guide/frequent_patterns/apriori/) presented with the mlxtend library.\n",
    "\n",
    "**This problem will be divided into the following chapters:**\n",
    "\n",
    "1. Importing the *machine learning* library\n",
    "\n",
    "2. Data processing, selection and preparation\n",
    "\n",
    "3. Pivot table implementation\n",
    "\n",
    "4. Association rules with the Apriori algorithm\n",
    "\n",
    "5. Result preview"
   ]
  },
  {
   "cell_type": "markdown",
   "metadata": {},
   "source": [
    "___\n",
    "### mlxtend library\n",
    "\n",
    "For this second problem, an exclusive library for machine learning algorithms will be used. The name of the library is **[mlxtend](https://rasbt.github.io/mlxtend/)** and this choice is based on the simplicity of the API and the practicality of the library. There are many examples that make use of this same library and there is a lot of support from the documentation itself.\n",
    "\n",
    "In particular, the section relating to **association rules** and the **Apriori algorithm** will be imported as these methods will be used.\n",
    "\n",
    "The inclusion of this library requires prior installation of the **mlxtend** package using *PIP*:\n",
    "* `pip install mlxtend`"
   ]
  },
  {
   "cell_type": "code",
   "execution_count": 59,
   "metadata": {},
   "outputs": [
    {
     "name": "stdout",
     "output_type": "stream",
     "text": [
      "Collecting mlxtend\n",
      "  Downloading mlxtend-0.23.4-py3-none-any.whl (1.4 MB)\n",
      "Requirement already satisfied: pandas>=0.24.2 in c:\\users\\user\\anaconda3\\lib\\site-packages (from mlxtend) (1.4.2)\n",
      "Requirement already satisfied: matplotlib>=3.0.0 in c:\\users\\user\\anaconda3\\lib\\site-packages (from mlxtend) (3.5.1)\n",
      "Requirement already satisfied: numpy>=1.16.2 in c:\\users\\user\\anaconda3\\lib\\site-packages (from mlxtend) (1.21.5)\n",
      "Requirement already satisfied: joblib>=0.13.2 in c:\\users\\user\\anaconda3\\lib\\site-packages (from mlxtend) (1.5.2)\n",
      "Collecting scikit-learn>=1.3.1\n",
      "  Downloading scikit_learn-1.6.1-cp39-cp39-win_amd64.whl (11.2 MB)\n",
      "Requirement already satisfied: scipy>=1.2.1 in c:\\users\\user\\anaconda3\\lib\\site-packages (from mlxtend) (1.7.3)\n",
      "Requirement already satisfied: cycler>=0.10 in c:\\users\\user\\anaconda3\\lib\\site-packages (from matplotlib>=3.0.0->mlxtend) (0.11.0)\n",
      "Requirement already satisfied: fonttools>=4.22.0 in c:\\users\\user\\anaconda3\\lib\\site-packages (from matplotlib>=3.0.0->mlxtend) (4.25.0)\n",
      "Requirement already satisfied: packaging>=20.0 in c:\\users\\user\\anaconda3\\lib\\site-packages (from matplotlib>=3.0.0->mlxtend) (21.3)\n",
      "Requirement already satisfied: kiwisolver>=1.0.1 in c:\\users\\user\\anaconda3\\lib\\site-packages (from matplotlib>=3.0.0->mlxtend) (1.3.2)\n",
      "Requirement already satisfied: pyparsing>=2.2.1 in c:\\users\\user\\anaconda3\\lib\\site-packages (from matplotlib>=3.0.0->mlxtend) (3.0.4)\n",
      "Requirement already satisfied: python-dateutil>=2.7 in c:\\users\\user\\anaconda3\\lib\\site-packages (from matplotlib>=3.0.0->mlxtend) (2.8.2)\n",
      "Requirement already satisfied: pillow>=6.2.0 in c:\\users\\user\\anaconda3\\lib\\site-packages (from matplotlib>=3.0.0->mlxtend) (9.0.1)\n",
      "Requirement already satisfied: pytz>=2020.1 in c:\\users\\user\\anaconda3\\lib\\site-packages (from pandas>=0.24.2->mlxtend) (2021.3)\n",
      "Requirement already satisfied: six>=1.5 in c:\\users\\user\\anaconda3\\lib\\site-packages (from python-dateutil>=2.7->matplotlib>=3.0.0->mlxtend) (1.16.0)\n",
      "Collecting threadpoolctl>=3.1.0\n",
      "  Downloading threadpoolctl-3.6.0-py3-none-any.whl (18 kB)\n",
      "Installing collected packages: threadpoolctl, scikit-learn, mlxtend\n",
      "  Attempting uninstall: threadpoolctl\n",
      "    Found existing installation: threadpoolctl 2.2.0\n",
      "    Uninstalling threadpoolctl-2.2.0:\n",
      "      Successfully uninstalled threadpoolctl-2.2.0\n",
      "  Attempting uninstall: scikit-learn\n",
      "    Found existing installation: scikit-learn 1.0.2\n",
      "    Uninstalling scikit-learn-1.0.2:\n",
      "      Successfully uninstalled scikit-learn-1.0.2\n",
      "Successfully installed mlxtend-0.23.4 scikit-learn-1.6.1 threadpoolctl-3.6.0\n",
      "Note: you may need to restart the kernel to use updated packages.\n"
     ]
    }
   ],
   "source": [
    "pip install mlxtend"
   ]
  },
  {
   "cell_type": "code",
   "execution_count": 60,
   "metadata": {},
   "outputs": [],
   "source": [
    "# Imports\n",
    "from mlxtend.frequent_patterns import apriori, association_rules"
   ]
  },
  {
   "cell_type": "markdown",
   "metadata": {},
   "source": [
    "___\n",
    "### Choice, processing and preparation of data\n",
    "\n",
    "For this problem, **data organization** is extremely important. Unlike the previous case, for association rules, **only the use of Boolean qualitative variables (True or False)** is allowed. However, it will not be necessary to discard numerical variables now as a method for including them will be discussed below.\n",
    "\n",
    "The dataset is read again through a pandas data structure and the columns that will be used are selected. You can take advantage of those relevant Boolean variables right from the start, such as **\"engine_has_gas\", \"has_warranty\" and \"is_exchangeable\"**."
   ]
  },
  {
   "cell_type": "code",
   "execution_count": 61,
   "metadata": {},
   "outputs": [],
   "source": [
    "# Read the file and select desired columns\n",
    "del df\n",
    "df = pd.read_csv('cars.csv', usecols=['body_type', 'transmission', 'engine_fuel', 'engine_capacity', 'engine_has_gas', 'has_warranty', 'price_usd', 'is_exchangeable'])\n",
    "\n",
    "# Copy other variables as they are\n",
    "df['engine_has_gas'] = df['engine_has_gas']\n",
    "df['has_warranty'] = df['has_warranty']\n",
    "df['is_exchangeable'] = df['is_exchangeable']"
   ]
  },
  {
   "cell_type": "markdown",
   "metadata": {},
   "source": [
    "Next we will deal with variables with only **two states**, as these can be easily mapped with **Boolean** according to the objective. Therefore, the variables **\"transmission\"**, **\"engine_fuel\"** and **\"engine_capacity\"** will be used, whereby:\n",
    "\n",
    "* Using ***one-hot encoding***, it is possible to create a column for **manual gearboxes** and another for **automatic gearboxes**.\n",
    "* Using ***one-hot encoding***, it is possible to create a column for cars with **gasoline fuel** and another for **diesel cars**.\n",
    "* If the engine capacity (engine_capacity) **is greater than 2.5L**, the value will be **True** and if it is lower, it will be False.\n",
    "\n",
    "Note that the last variable does not just have two states and is numeric, but it is still possible to map it to include the format for the association rules. This is a good way to introduce how other numeric variables will be included in the data structure below!"
   ]
  },
  {
   "cell_type": "code",
   "execution_count": 62,
   "metadata": {},
   "outputs": [],
   "source": [
    "# Transform 'transmission'\n",
    "df = pd.get_dummies(df, columns=['transmission'], prefix='transmission')\n",
    "\n",
    "# Transform 'engine_fuel'\n",
    "df = pd.get_dummies(df, columns=['engine_fuel'], prefix='engine_fuel')\n",
    "\n",
    "# Transform 'engine_capacity' (True - >2.5)\n",
    "df['engine_capacity'] = df['engine_capacity'].apply(lambda x: True if x > 2.5 else False)"
   ]
  },
  {
   "cell_type": "markdown",
   "metadata": {},
   "source": [
    "To complete the data processing, two more very important numerical variables will be included but in a distributed manner. The way to include the **price of the car (*price_usd*)** and the **type of chassis (*body_type*)** was by dividing them into specific subcategories. That is, organize price groups within the price_usd variable and chassis type groups within the body_type variable.\n",
    "\n",
    "* For prices, six categories were organized, where if the price is between specific values, the respective variable will have the value True and otherwise the value False.\n",
    "\n",
    "* Regarding the type of chassis, only a comparison was made with each name on the list and columns related to each type were organized.\n",
    "\n",
    "At the end, the table relating to the problem's data structure is presented to confirm compliance with the rules."
   ]
  },
  {
   "cell_type": "code",
   "execution_count": 63,
   "metadata": {},
   "outputs": [
    {
     "data": {
      "text/html": [
       "<div>\n",
       "<style scoped>\n",
       "    .dataframe tbody tr th:only-of-type {\n",
       "        vertical-align: middle;\n",
       "    }\n",
       "\n",
       "    .dataframe tbody tr th {\n",
       "        vertical-align: top;\n",
       "    }\n",
       "\n",
       "    .dataframe thead th {\n",
       "        text-align: right;\n",
       "    }\n",
       "</style>\n",
       "<table border=\"1\" class=\"dataframe\">\n",
       "  <thead>\n",
       "    <tr style=\"text-align: right;\">\n",
       "      <th></th>\n",
       "      <th>engine_has_gas</th>\n",
       "      <th>engine_capacity</th>\n",
       "      <th>has_warranty</th>\n",
       "      <th>is_exchangeable</th>\n",
       "      <th>transmission_automatic</th>\n",
       "      <th>transmission_mechanical</th>\n",
       "      <th>engine_fuel_diesel</th>\n",
       "      <th>engine_fuel_electric</th>\n",
       "      <th>engine_fuel_gas</th>\n",
       "      <th>engine_fuel_gasoline</th>\n",
       "      <th>...</th>\n",
       "      <th>body_type_hatchback</th>\n",
       "      <th>body_type_liftback</th>\n",
       "      <th>body_type_limousine</th>\n",
       "      <th>body_type_minibus</th>\n",
       "      <th>body_type_minivan</th>\n",
       "      <th>body_type_pickup</th>\n",
       "      <th>body_type_sedan</th>\n",
       "      <th>body_type_suv</th>\n",
       "      <th>body_type_universal</th>\n",
       "      <th>body_type_van</th>\n",
       "    </tr>\n",
       "  </thead>\n",
       "  <tbody>\n",
       "    <tr>\n",
       "      <th>0</th>\n",
       "      <td>False</td>\n",
       "      <td>False</td>\n",
       "      <td>False</td>\n",
       "      <td>False</td>\n",
       "      <td>1</td>\n",
       "      <td>0</td>\n",
       "      <td>0</td>\n",
       "      <td>0</td>\n",
       "      <td>0</td>\n",
       "      <td>1</td>\n",
       "      <td>...</td>\n",
       "      <td>0</td>\n",
       "      <td>0</td>\n",
       "      <td>0</td>\n",
       "      <td>0</td>\n",
       "      <td>0</td>\n",
       "      <td>0</td>\n",
       "      <td>0</td>\n",
       "      <td>0</td>\n",
       "      <td>1</td>\n",
       "      <td>0</td>\n",
       "    </tr>\n",
       "    <tr>\n",
       "      <th>1</th>\n",
       "      <td>False</td>\n",
       "      <td>True</td>\n",
       "      <td>False</td>\n",
       "      <td>True</td>\n",
       "      <td>1</td>\n",
       "      <td>0</td>\n",
       "      <td>0</td>\n",
       "      <td>0</td>\n",
       "      <td>0</td>\n",
       "      <td>1</td>\n",
       "      <td>...</td>\n",
       "      <td>0</td>\n",
       "      <td>0</td>\n",
       "      <td>0</td>\n",
       "      <td>0</td>\n",
       "      <td>0</td>\n",
       "      <td>0</td>\n",
       "      <td>0</td>\n",
       "      <td>0</td>\n",
       "      <td>1</td>\n",
       "      <td>0</td>\n",
       "    </tr>\n",
       "    <tr>\n",
       "      <th>2</th>\n",
       "      <td>False</td>\n",
       "      <td>False</td>\n",
       "      <td>False</td>\n",
       "      <td>True</td>\n",
       "      <td>1</td>\n",
       "      <td>0</td>\n",
       "      <td>0</td>\n",
       "      <td>0</td>\n",
       "      <td>0</td>\n",
       "      <td>1</td>\n",
       "      <td>...</td>\n",
       "      <td>0</td>\n",
       "      <td>0</td>\n",
       "      <td>0</td>\n",
       "      <td>0</td>\n",
       "      <td>0</td>\n",
       "      <td>0</td>\n",
       "      <td>0</td>\n",
       "      <td>1</td>\n",
       "      <td>0</td>\n",
       "      <td>0</td>\n",
       "    </tr>\n",
       "    <tr>\n",
       "      <th>3</th>\n",
       "      <td>False</td>\n",
       "      <td>True</td>\n",
       "      <td>False</td>\n",
       "      <td>True</td>\n",
       "      <td>0</td>\n",
       "      <td>1</td>\n",
       "      <td>0</td>\n",
       "      <td>0</td>\n",
       "      <td>0</td>\n",
       "      <td>1</td>\n",
       "      <td>...</td>\n",
       "      <td>0</td>\n",
       "      <td>0</td>\n",
       "      <td>0</td>\n",
       "      <td>0</td>\n",
       "      <td>0</td>\n",
       "      <td>0</td>\n",
       "      <td>1</td>\n",
       "      <td>0</td>\n",
       "      <td>0</td>\n",
       "      <td>0</td>\n",
       "    </tr>\n",
       "    <tr>\n",
       "      <th>4</th>\n",
       "      <td>False</td>\n",
       "      <td>False</td>\n",
       "      <td>False</td>\n",
       "      <td>True</td>\n",
       "      <td>1</td>\n",
       "      <td>0</td>\n",
       "      <td>0</td>\n",
       "      <td>0</td>\n",
       "      <td>0</td>\n",
       "      <td>1</td>\n",
       "      <td>...</td>\n",
       "      <td>0</td>\n",
       "      <td>0</td>\n",
       "      <td>0</td>\n",
       "      <td>0</td>\n",
       "      <td>0</td>\n",
       "      <td>0</td>\n",
       "      <td>0</td>\n",
       "      <td>0</td>\n",
       "      <td>1</td>\n",
       "      <td>0</td>\n",
       "    </tr>\n",
       "  </tbody>\n",
       "</table>\n",
       "<p>5 rows × 30 columns</p>\n",
       "</div>"
      ],
      "text/plain": [
       "   engine_has_gas  engine_capacity  has_warranty  is_exchangeable  \\\n",
       "0           False            False         False            False   \n",
       "1           False             True         False             True   \n",
       "2           False            False         False             True   \n",
       "3           False             True         False             True   \n",
       "4           False            False         False             True   \n",
       "\n",
       "   transmission_automatic  transmission_mechanical  engine_fuel_diesel  \\\n",
       "0                       1                        0                   0   \n",
       "1                       1                        0                   0   \n",
       "2                       1                        0                   0   \n",
       "3                       0                        1                   0   \n",
       "4                       1                        0                   0   \n",
       "\n",
       "   engine_fuel_electric  engine_fuel_gas  engine_fuel_gasoline  ...  \\\n",
       "0                     0                0                     1  ...   \n",
       "1                     0                0                     1  ...   \n",
       "2                     0                0                     1  ...   \n",
       "3                     0                0                     1  ...   \n",
       "4                     0                0                     1  ...   \n",
       "\n",
       "   body_type_hatchback  body_type_liftback  body_type_limousine  \\\n",
       "0                    0                   0                    0   \n",
       "1                    0                   0                    0   \n",
       "2                    0                   0                    0   \n",
       "3                    0                   0                    0   \n",
       "4                    0                   0                    0   \n",
       "\n",
       "   body_type_minibus  body_type_minivan  body_type_pickup  body_type_sedan  \\\n",
       "0                  0                  0                 0                0   \n",
       "1                  0                  0                 0                0   \n",
       "2                  0                  0                 0                0   \n",
       "3                  0                  0                 0                1   \n",
       "4                  0                  0                 0                0   \n",
       "\n",
       "   body_type_suv  body_type_universal  body_type_van  \n",
       "0              0                    1              0  \n",
       "1              0                    1              0  \n",
       "2              1                    0              0  \n",
       "3              0                    0              0  \n",
       "4              0                    1              0  \n",
       "\n",
       "[5 rows x 30 columns]"
      ]
     },
     "execution_count": 63,
     "metadata": {},
     "output_type": "execute_result"
    }
   ],
   "source": [
    "# Transform price ranges\n",
    "df['price_0_1000'] = df['price_usd'].apply(lambda x: -1 <= x <= 1000)\n",
    "df['price_1000_2500'] = df['price_usd'].apply(lambda x: 1000 <= x <= 2500)\n",
    "df['price_2500_5000'] = df['price_usd'].apply(lambda x: 2500 <= x <= 5000)\n",
    "df['price_5000_10000'] = df['price_usd'].apply(lambda x: 5000 <= x <= 10000)\n",
    "df['price_10000_20000'] = df['price_usd'].apply(lambda x: 10000 <= x <= 20000)\n",
    "df['price_>20000'] = df['engine_capacity'].apply(lambda x: True if x > 20000 else False)\n",
    "\n",
    "# Transform body types\n",
    "df = pd.get_dummies(df, columns=['body_type'], prefix='body_type')\n",
    "\n",
    "# Drop the original column as it was adapted\n",
    "df = df.drop(['price_usd'], axis=1)\n",
    "\n",
    "# Display the first rows of the data frame\n",
    "df.head()"
   ]
  },
  {
   "cell_type": "markdown",
   "metadata": {},
   "source": [
    "___\n",
    "### Pivot Table Implementation\n",
    "\n",
    "To process the data, it will be necessary to create a table using the created data frame. As such, the so-called **Pivot Table** is created, which is made up of rows corresponding, in this case, to cars for sale and in the columns the various Boolean attributes that were discussed previously. To make the implementation of the table possible, the pandas \"pivot_table\" function was used and, in addition, a column was created with identifiers for each car for sale, as this was not included in the original dataset and a way of differentiate each transaction."
   ]
  },
  {
   "cell_type": "code",
   "execution_count": 64,
   "metadata": {},
   "outputs": [
    {
     "data": {
      "text/html": [
       "<div>\n",
       "<style scoped>\n",
       "    .dataframe tbody tr th:only-of-type {\n",
       "        vertical-align: middle;\n",
       "    }\n",
       "\n",
       "    .dataframe tbody tr th {\n",
       "        vertical-align: top;\n",
       "    }\n",
       "\n",
       "    .dataframe thead th {\n",
       "        text-align: right;\n",
       "    }\n",
       "</style>\n",
       "<table border=\"1\" class=\"dataframe\">\n",
       "  <thead>\n",
       "    <tr style=\"text-align: right;\">\n",
       "      <th></th>\n",
       "      <th>body_type_cabriolet</th>\n",
       "      <th>body_type_coupe</th>\n",
       "      <th>body_type_hatchback</th>\n",
       "      <th>body_type_liftback</th>\n",
       "      <th>body_type_limousine</th>\n",
       "      <th>body_type_minibus</th>\n",
       "      <th>body_type_minivan</th>\n",
       "      <th>body_type_pickup</th>\n",
       "      <th>body_type_sedan</th>\n",
       "      <th>body_type_suv</th>\n",
       "      <th>...</th>\n",
       "      <th>has_warranty</th>\n",
       "      <th>is_exchangeable</th>\n",
       "      <th>price_0_1000</th>\n",
       "      <th>price_10000_20000</th>\n",
       "      <th>price_1000_2500</th>\n",
       "      <th>price_2500_5000</th>\n",
       "      <th>price_5000_10000</th>\n",
       "      <th>price_&gt;20000</th>\n",
       "      <th>transmission_automatic</th>\n",
       "      <th>transmission_mechanical</th>\n",
       "    </tr>\n",
       "    <tr>\n",
       "      <th>ID</th>\n",
       "      <th></th>\n",
       "      <th></th>\n",
       "      <th></th>\n",
       "      <th></th>\n",
       "      <th></th>\n",
       "      <th></th>\n",
       "      <th></th>\n",
       "      <th></th>\n",
       "      <th></th>\n",
       "      <th></th>\n",
       "      <th></th>\n",
       "      <th></th>\n",
       "      <th></th>\n",
       "      <th></th>\n",
       "      <th></th>\n",
       "      <th></th>\n",
       "      <th></th>\n",
       "      <th></th>\n",
       "      <th></th>\n",
       "      <th></th>\n",
       "      <th></th>\n",
       "    </tr>\n",
       "  </thead>\n",
       "  <tbody>\n",
       "    <tr>\n",
       "      <th>1</th>\n",
       "      <td>False</td>\n",
       "      <td>False</td>\n",
       "      <td>False</td>\n",
       "      <td>False</td>\n",
       "      <td>False</td>\n",
       "      <td>False</td>\n",
       "      <td>False</td>\n",
       "      <td>False</td>\n",
       "      <td>False</td>\n",
       "      <td>False</td>\n",
       "      <td>...</td>\n",
       "      <td>False</td>\n",
       "      <td>False</td>\n",
       "      <td>False</td>\n",
       "      <td>True</td>\n",
       "      <td>False</td>\n",
       "      <td>False</td>\n",
       "      <td>False</td>\n",
       "      <td>False</td>\n",
       "      <td>True</td>\n",
       "      <td>False</td>\n",
       "    </tr>\n",
       "    <tr>\n",
       "      <th>2</th>\n",
       "      <td>False</td>\n",
       "      <td>False</td>\n",
       "      <td>False</td>\n",
       "      <td>False</td>\n",
       "      <td>False</td>\n",
       "      <td>False</td>\n",
       "      <td>False</td>\n",
       "      <td>False</td>\n",
       "      <td>False</td>\n",
       "      <td>False</td>\n",
       "      <td>...</td>\n",
       "      <td>False</td>\n",
       "      <td>True</td>\n",
       "      <td>False</td>\n",
       "      <td>False</td>\n",
       "      <td>False</td>\n",
       "      <td>True</td>\n",
       "      <td>True</td>\n",
       "      <td>False</td>\n",
       "      <td>True</td>\n",
       "      <td>False</td>\n",
       "    </tr>\n",
       "    <tr>\n",
       "      <th>3</th>\n",
       "      <td>False</td>\n",
       "      <td>False</td>\n",
       "      <td>False</td>\n",
       "      <td>False</td>\n",
       "      <td>False</td>\n",
       "      <td>False</td>\n",
       "      <td>False</td>\n",
       "      <td>False</td>\n",
       "      <td>False</td>\n",
       "      <td>True</td>\n",
       "      <td>...</td>\n",
       "      <td>False</td>\n",
       "      <td>True</td>\n",
       "      <td>False</td>\n",
       "      <td>False</td>\n",
       "      <td>False</td>\n",
       "      <td>True</td>\n",
       "      <td>False</td>\n",
       "      <td>False</td>\n",
       "      <td>True</td>\n",
       "      <td>False</td>\n",
       "    </tr>\n",
       "    <tr>\n",
       "      <th>4</th>\n",
       "      <td>False</td>\n",
       "      <td>False</td>\n",
       "      <td>False</td>\n",
       "      <td>False</td>\n",
       "      <td>False</td>\n",
       "      <td>False</td>\n",
       "      <td>False</td>\n",
       "      <td>False</td>\n",
       "      <td>True</td>\n",
       "      <td>False</td>\n",
       "      <td>...</td>\n",
       "      <td>False</td>\n",
       "      <td>True</td>\n",
       "      <td>False</td>\n",
       "      <td>False</td>\n",
       "      <td>False</td>\n",
       "      <td>False</td>\n",
       "      <td>True</td>\n",
       "      <td>False</td>\n",
       "      <td>False</td>\n",
       "      <td>True</td>\n",
       "    </tr>\n",
       "    <tr>\n",
       "      <th>5</th>\n",
       "      <td>False</td>\n",
       "      <td>False</td>\n",
       "      <td>False</td>\n",
       "      <td>False</td>\n",
       "      <td>False</td>\n",
       "      <td>False</td>\n",
       "      <td>False</td>\n",
       "      <td>False</td>\n",
       "      <td>False</td>\n",
       "      <td>False</td>\n",
       "      <td>...</td>\n",
       "      <td>False</td>\n",
       "      <td>True</td>\n",
       "      <td>False</td>\n",
       "      <td>False</td>\n",
       "      <td>True</td>\n",
       "      <td>False</td>\n",
       "      <td>False</td>\n",
       "      <td>False</td>\n",
       "      <td>True</td>\n",
       "      <td>False</td>\n",
       "    </tr>\n",
       "    <tr>\n",
       "      <th>6</th>\n",
       "      <td>False</td>\n",
       "      <td>False</td>\n",
       "      <td>False</td>\n",
       "      <td>False</td>\n",
       "      <td>False</td>\n",
       "      <td>False</td>\n",
       "      <td>False</td>\n",
       "      <td>False</td>\n",
       "      <td>False</td>\n",
       "      <td>False</td>\n",
       "      <td>...</td>\n",
       "      <td>False</td>\n",
       "      <td>True</td>\n",
       "      <td>False</td>\n",
       "      <td>True</td>\n",
       "      <td>False</td>\n",
       "      <td>False</td>\n",
       "      <td>False</td>\n",
       "      <td>False</td>\n",
       "      <td>True</td>\n",
       "      <td>False</td>\n",
       "    </tr>\n",
       "    <tr>\n",
       "      <th>7</th>\n",
       "      <td>False</td>\n",
       "      <td>False</td>\n",
       "      <td>False</td>\n",
       "      <td>False</td>\n",
       "      <td>False</td>\n",
       "      <td>False</td>\n",
       "      <td>False</td>\n",
       "      <td>False</td>\n",
       "      <td>False</td>\n",
       "      <td>False</td>\n",
       "      <td>...</td>\n",
       "      <td>False</td>\n",
       "      <td>True</td>\n",
       "      <td>False</td>\n",
       "      <td>False</td>\n",
       "      <td>False</td>\n",
       "      <td>True</td>\n",
       "      <td>False</td>\n",
       "      <td>False</td>\n",
       "      <td>True</td>\n",
       "      <td>False</td>\n",
       "    </tr>\n",
       "    <tr>\n",
       "      <th>8</th>\n",
       "      <td>False</td>\n",
       "      <td>False</td>\n",
       "      <td>False</td>\n",
       "      <td>False</td>\n",
       "      <td>False</td>\n",
       "      <td>False</td>\n",
       "      <td>False</td>\n",
       "      <td>False</td>\n",
       "      <td>True</td>\n",
       "      <td>False</td>\n",
       "      <td>...</td>\n",
       "      <td>False</td>\n",
       "      <td>False</td>\n",
       "      <td>False</td>\n",
       "      <td>False</td>\n",
       "      <td>False</td>\n",
       "      <td>True</td>\n",
       "      <td>False</td>\n",
       "      <td>False</td>\n",
       "      <td>True</td>\n",
       "      <td>False</td>\n",
       "    </tr>\n",
       "    <tr>\n",
       "      <th>9</th>\n",
       "      <td>False</td>\n",
       "      <td>False</td>\n",
       "      <td>False</td>\n",
       "      <td>False</td>\n",
       "      <td>False</td>\n",
       "      <td>False</td>\n",
       "      <td>False</td>\n",
       "      <td>False</td>\n",
       "      <td>False</td>\n",
       "      <td>False</td>\n",
       "      <td>...</td>\n",
       "      <td>False</td>\n",
       "      <td>False</td>\n",
       "      <td>False</td>\n",
       "      <td>True</td>\n",
       "      <td>False</td>\n",
       "      <td>False</td>\n",
       "      <td>False</td>\n",
       "      <td>False</td>\n",
       "      <td>True</td>\n",
       "      <td>False</td>\n",
       "    </tr>\n",
       "    <tr>\n",
       "      <th>10</th>\n",
       "      <td>False</td>\n",
       "      <td>False</td>\n",
       "      <td>False</td>\n",
       "      <td>False</td>\n",
       "      <td>False</td>\n",
       "      <td>False</td>\n",
       "      <td>False</td>\n",
       "      <td>False</td>\n",
       "      <td>False</td>\n",
       "      <td>False</td>\n",
       "      <td>...</td>\n",
       "      <td>False</td>\n",
       "      <td>True</td>\n",
       "      <td>False</td>\n",
       "      <td>False</td>\n",
       "      <td>False</td>\n",
       "      <td>True</td>\n",
       "      <td>False</td>\n",
       "      <td>False</td>\n",
       "      <td>True</td>\n",
       "      <td>False</td>\n",
       "    </tr>\n",
       "  </tbody>\n",
       "</table>\n",
       "<p>10 rows × 30 columns</p>\n",
       "</div>"
      ],
      "text/plain": [
       "    body_type_cabriolet  body_type_coupe  body_type_hatchback  \\\n",
       "ID                                                              \n",
       "1                 False            False                False   \n",
       "2                 False            False                False   \n",
       "3                 False            False                False   \n",
       "4                 False            False                False   \n",
       "5                 False            False                False   \n",
       "6                 False            False                False   \n",
       "7                 False            False                False   \n",
       "8                 False            False                False   \n",
       "9                 False            False                False   \n",
       "10                False            False                False   \n",
       "\n",
       "    body_type_liftback  body_type_limousine  body_type_minibus  \\\n",
       "ID                                                               \n",
       "1                False                False              False   \n",
       "2                False                False              False   \n",
       "3                False                False              False   \n",
       "4                False                False              False   \n",
       "5                False                False              False   \n",
       "6                False                False              False   \n",
       "7                False                False              False   \n",
       "8                False                False              False   \n",
       "9                False                False              False   \n",
       "10               False                False              False   \n",
       "\n",
       "    body_type_minivan  body_type_pickup  body_type_sedan  body_type_suv  ...  \\\n",
       "ID                                                                       ...   \n",
       "1               False             False            False          False  ...   \n",
       "2               False             False            False          False  ...   \n",
       "3               False             False            False           True  ...   \n",
       "4               False             False             True          False  ...   \n",
       "5               False             False            False          False  ...   \n",
       "6               False             False            False          False  ...   \n",
       "7               False             False            False          False  ...   \n",
       "8               False             False             True          False  ...   \n",
       "9               False             False            False          False  ...   \n",
       "10              False             False            False          False  ...   \n",
       "\n",
       "    has_warranty  is_exchangeable  price_0_1000  price_10000_20000  \\\n",
       "ID                                                                   \n",
       "1          False            False         False               True   \n",
       "2          False             True         False              False   \n",
       "3          False             True         False              False   \n",
       "4          False             True         False              False   \n",
       "5          False             True         False              False   \n",
       "6          False             True         False               True   \n",
       "7          False             True         False              False   \n",
       "8          False            False         False              False   \n",
       "9          False            False         False               True   \n",
       "10         False             True         False              False   \n",
       "\n",
       "    price_1000_2500  price_2500_5000  price_5000_10000  price_>20000  \\\n",
       "ID                                                                     \n",
       "1             False            False             False         False   \n",
       "2             False             True              True         False   \n",
       "3             False             True             False         False   \n",
       "4             False            False              True         False   \n",
       "5              True            False             False         False   \n",
       "6             False            False             False         False   \n",
       "7             False             True             False         False   \n",
       "8             False             True             False         False   \n",
       "9             False            False             False         False   \n",
       "10            False             True             False         False   \n",
       "\n",
       "    transmission_automatic  transmission_mechanical  \n",
       "ID                                                   \n",
       "1                     True                    False  \n",
       "2                     True                    False  \n",
       "3                     True                    False  \n",
       "4                    False                     True  \n",
       "5                     True                    False  \n",
       "6                     True                    False  \n",
       "7                     True                    False  \n",
       "8                     True                    False  \n",
       "9                     True                    False  \n",
       "10                    True                    False  \n",
       "\n",
       "[10 rows x 30 columns]"
      ]
     },
     "execution_count": 64,
     "metadata": {},
     "output_type": "execute_result"
    }
   ],
   "source": [
    "# Add an 'ID' column\n",
    "df['ID'] = range(1, len(df) + 1)\n",
    "\n",
    "# Create a pivot table using the 'ID' column as the index\n",
    "pivot_table = pd.pivot_table(df, index=['ID'])\n",
    "\n",
    "# Convert 0s and 1s to True and False\n",
    "pivot_table = pivot_table.astype(bool)\n",
    "\n",
    "# Display the resulting pivot table\n",
    "pivot_table.head(10)"
   ]
  },
  {
   "cell_type": "markdown",
   "metadata": {},
   "source": [
    "___\n",
    "### Association rules with the Apriori algorithm\n",
    "\n",
    "Now comes the main part of the problem. **Frequent items** will be obtained here based on a minimum defined using the **Apriori algorithm**. Then, based on these items, the **association rules** will be generated. The result is a table that presents the *antecedents*, the *consequents* and a set of associated metrics.\n",
    "\n",
    "A very low minimum support was defined so that the algorithm generates more associations and thus the user has more options to choose from and a null result is not presented.\n",
    "\n",
    "In order to better understand the table, the **consequent** is the attribute that occurs after the occurrence of the **antecedent**. The most relevant metric for this problem will be *confidence*, which represents the **probability** of the consequent occurring knowing that the antecedent occurred.\n",
    "\n",
    "As for the remaining metrics, here is the basic description:\n",
    "\n",
    "* support - Measures the frequency of occurrences of the set of attributes in the dataset.\n",
    "\n",
    "* lift - Measures the impact of the rule in a situation in which the antecedent and consequent are independent.\n",
    "\n",
    "* leverage - Measures the difference between the frequency of the antecedent and the consequent in situations where they are together and when they are independent.\n",
    "\n",
    "* conviction - Measures the possibility of the consequent occurring without the antecedent."
   ]
  },
  {
   "cell_type": "code",
   "execution_count": 65,
   "metadata": {},
   "outputs": [
    {
     "data": {
      "text/html": [
       "<div>\n",
       "<style scoped>\n",
       "    .dataframe tbody tr th:only-of-type {\n",
       "        vertical-align: middle;\n",
       "    }\n",
       "\n",
       "    .dataframe tbody tr th {\n",
       "        vertical-align: top;\n",
       "    }\n",
       "\n",
       "    .dataframe thead th {\n",
       "        text-align: right;\n",
       "    }\n",
       "</style>\n",
       "<table border=\"1\" class=\"dataframe\">\n",
       "  <thead>\n",
       "    <tr style=\"text-align: right;\">\n",
       "      <th></th>\n",
       "      <th>antecedents</th>\n",
       "      <th>consequents</th>\n",
       "      <th>antecedent support</th>\n",
       "      <th>consequent support</th>\n",
       "      <th>support</th>\n",
       "      <th>confidence</th>\n",
       "      <th>lift</th>\n",
       "      <th>representativity</th>\n",
       "      <th>leverage</th>\n",
       "      <th>conviction</th>\n",
       "      <th>zhangs_metric</th>\n",
       "      <th>jaccard</th>\n",
       "      <th>certainty</th>\n",
       "      <th>kulczynski</th>\n",
       "    </tr>\n",
       "  </thead>\n",
       "  <tbody>\n",
       "    <tr>\n",
       "      <th>0</th>\n",
       "      <td>(body_type_coupe)</td>\n",
       "      <td>(engine_fuel_gasoline)</td>\n",
       "      <td>0.016921</td>\n",
       "      <td>0.624562</td>\n",
       "      <td>0.015702</td>\n",
       "      <td>0.927914</td>\n",
       "      <td>1.485704</td>\n",
       "      <td>1.0</td>\n",
       "      <td>0.005133</td>\n",
       "      <td>5.208203</td>\n",
       "      <td>0.332545</td>\n",
       "      <td>0.025091</td>\n",
       "      <td>0.807995</td>\n",
       "      <td>0.476527</td>\n",
       "    </tr>\n",
       "    <tr>\n",
       "      <th>1</th>\n",
       "      <td>(engine_fuel_gasoline)</td>\n",
       "      <td>(body_type_coupe)</td>\n",
       "      <td>0.624562</td>\n",
       "      <td>0.016921</td>\n",
       "      <td>0.015702</td>\n",
       "      <td>0.025140</td>\n",
       "      <td>1.485704</td>\n",
       "      <td>1.0</td>\n",
       "      <td>0.005133</td>\n",
       "      <td>1.008431</td>\n",
       "      <td>0.870765</td>\n",
       "      <td>0.025091</td>\n",
       "      <td>0.008360</td>\n",
       "      <td>0.476527</td>\n",
       "    </tr>\n",
       "    <tr>\n",
       "      <th>2</th>\n",
       "      <td>(body_type_hatchback)</td>\n",
       "      <td>(engine_fuel_diesel)</td>\n",
       "      <td>0.198386</td>\n",
       "      <td>0.334069</td>\n",
       "      <td>0.040772</td>\n",
       "      <td>0.205521</td>\n",
       "      <td>0.615205</td>\n",
       "      <td>1.0</td>\n",
       "      <td>-0.025502</td>\n",
       "      <td>0.838198</td>\n",
       "      <td>-0.438287</td>\n",
       "      <td>0.082924</td>\n",
       "      <td>-0.193035</td>\n",
       "      <td>0.163784</td>\n",
       "    </tr>\n",
       "    <tr>\n",
       "      <th>3</th>\n",
       "      <td>(engine_fuel_diesel)</td>\n",
       "      <td>(body_type_hatchback)</td>\n",
       "      <td>0.334069</td>\n",
       "      <td>0.198386</td>\n",
       "      <td>0.040772</td>\n",
       "      <td>0.122048</td>\n",
       "      <td>0.615205</td>\n",
       "      <td>1.0</td>\n",
       "      <td>-0.025502</td>\n",
       "      <td>0.913050</td>\n",
       "      <td>-0.484336</td>\n",
       "      <td>0.082924</td>\n",
       "      <td>-0.095230</td>\n",
       "      <td>0.163784</td>\n",
       "    </tr>\n",
       "    <tr>\n",
       "      <th>4</th>\n",
       "      <td>(body_type_hatchback)</td>\n",
       "      <td>(engine_fuel_gasoline)</td>\n",
       "      <td>0.198386</td>\n",
       "      <td>0.624562</td>\n",
       "      <td>0.152397</td>\n",
       "      <td>0.768184</td>\n",
       "      <td>1.229957</td>\n",
       "      <td>1.0</td>\n",
       "      <td>0.028493</td>\n",
       "      <td>1.619553</td>\n",
       "      <td>0.233233</td>\n",
       "      <td>0.227271</td>\n",
       "      <td>0.382546</td>\n",
       "      <td>0.506095</td>\n",
       "    </tr>\n",
       "    <tr>\n",
       "      <th>5</th>\n",
       "      <td>(engine_fuel_gasoline)</td>\n",
       "      <td>(body_type_hatchback)</td>\n",
       "      <td>0.624562</td>\n",
       "      <td>0.198386</td>\n",
       "      <td>0.152397</td>\n",
       "      <td>0.244006</td>\n",
       "      <td>1.229957</td>\n",
       "      <td>1.0</td>\n",
       "      <td>0.028493</td>\n",
       "      <td>1.060345</td>\n",
       "      <td>0.497987</td>\n",
       "      <td>0.227271</td>\n",
       "      <td>0.056910</td>\n",
       "      <td>0.506095</td>\n",
       "    </tr>\n",
       "    <tr>\n",
       "      <th>6</th>\n",
       "      <td>(body_type_hatchback)</td>\n",
       "      <td>(is_exchangeable)</td>\n",
       "      <td>0.198386</td>\n",
       "      <td>0.352599</td>\n",
       "      <td>0.062755</td>\n",
       "      <td>0.316327</td>\n",
       "      <td>0.897128</td>\n",
       "      <td>1.0</td>\n",
       "      <td>-0.007196</td>\n",
       "      <td>0.946944</td>\n",
       "      <td>-0.125145</td>\n",
       "      <td>0.128535</td>\n",
       "      <td>-0.056028</td>\n",
       "      <td>0.247152</td>\n",
       "    </tr>\n",
       "    <tr>\n",
       "      <th>7</th>\n",
       "      <td>(is_exchangeable)</td>\n",
       "      <td>(body_type_hatchback)</td>\n",
       "      <td>0.352599</td>\n",
       "      <td>0.198386</td>\n",
       "      <td>0.062755</td>\n",
       "      <td>0.177977</td>\n",
       "      <td>0.897128</td>\n",
       "      <td>1.0</td>\n",
       "      <td>-0.007196</td>\n",
       "      <td>0.975173</td>\n",
       "      <td>-0.150470</td>\n",
       "      <td>0.128535</td>\n",
       "      <td>-0.025459</td>\n",
       "      <td>0.247152</td>\n",
       "    </tr>\n",
       "    <tr>\n",
       "      <th>8</th>\n",
       "      <td>(body_type_hatchback)</td>\n",
       "      <td>(price_0_1000)</td>\n",
       "      <td>0.198386</td>\n",
       "      <td>0.104643</td>\n",
       "      <td>0.035712</td>\n",
       "      <td>0.180010</td>\n",
       "      <td>1.720234</td>\n",
       "      <td>1.0</td>\n",
       "      <td>0.014952</td>\n",
       "      <td>1.091913</td>\n",
       "      <td>0.522301</td>\n",
       "      <td>0.133592</td>\n",
       "      <td>0.084176</td>\n",
       "      <td>0.260640</td>\n",
       "    </tr>\n",
       "    <tr>\n",
       "      <th>9</th>\n",
       "      <td>(price_0_1000)</td>\n",
       "      <td>(body_type_hatchback)</td>\n",
       "      <td>0.104643</td>\n",
       "      <td>0.198386</td>\n",
       "      <td>0.035712</td>\n",
       "      <td>0.341270</td>\n",
       "      <td>1.720234</td>\n",
       "      <td>1.0</td>\n",
       "      <td>0.014952</td>\n",
       "      <td>1.216908</td>\n",
       "      <td>0.467617</td>\n",
       "      <td>0.133592</td>\n",
       "      <td>0.178245</td>\n",
       "      <td>0.260640</td>\n",
       "    </tr>\n",
       "  </tbody>\n",
       "</table>\n",
       "</div>"
      ],
      "text/plain": [
       "              antecedents             consequents  antecedent support  \\\n",
       "0       (body_type_coupe)  (engine_fuel_gasoline)            0.016921   \n",
       "1  (engine_fuel_gasoline)       (body_type_coupe)            0.624562   \n",
       "2   (body_type_hatchback)    (engine_fuel_diesel)            0.198386   \n",
       "3    (engine_fuel_diesel)   (body_type_hatchback)            0.334069   \n",
       "4   (body_type_hatchback)  (engine_fuel_gasoline)            0.198386   \n",
       "5  (engine_fuel_gasoline)   (body_type_hatchback)            0.624562   \n",
       "6   (body_type_hatchback)       (is_exchangeable)            0.198386   \n",
       "7       (is_exchangeable)   (body_type_hatchback)            0.352599   \n",
       "8   (body_type_hatchback)          (price_0_1000)            0.198386   \n",
       "9          (price_0_1000)   (body_type_hatchback)            0.104643   \n",
       "\n",
       "   consequent support   support  confidence      lift  representativity  \\\n",
       "0            0.624562  0.015702    0.927914  1.485704               1.0   \n",
       "1            0.016921  0.015702    0.025140  1.485704               1.0   \n",
       "2            0.334069  0.040772    0.205521  0.615205               1.0   \n",
       "3            0.198386  0.040772    0.122048  0.615205               1.0   \n",
       "4            0.624562  0.152397    0.768184  1.229957               1.0   \n",
       "5            0.198386  0.152397    0.244006  1.229957               1.0   \n",
       "6            0.352599  0.062755    0.316327  0.897128               1.0   \n",
       "7            0.198386  0.062755    0.177977  0.897128               1.0   \n",
       "8            0.104643  0.035712    0.180010  1.720234               1.0   \n",
       "9            0.198386  0.035712    0.341270  1.720234               1.0   \n",
       "\n",
       "   leverage  conviction  zhangs_metric   jaccard  certainty  kulczynski  \n",
       "0  0.005133    5.208203       0.332545  0.025091   0.807995    0.476527  \n",
       "1  0.005133    1.008431       0.870765  0.025091   0.008360    0.476527  \n",
       "2 -0.025502    0.838198      -0.438287  0.082924  -0.193035    0.163784  \n",
       "3 -0.025502    0.913050      -0.484336  0.082924  -0.095230    0.163784  \n",
       "4  0.028493    1.619553       0.233233  0.227271   0.382546    0.506095  \n",
       "5  0.028493    1.060345       0.497987  0.227271   0.056910    0.506095  \n",
       "6 -0.007196    0.946944      -0.125145  0.128535  -0.056028    0.247152  \n",
       "7 -0.007196    0.975173      -0.150470  0.128535  -0.025459    0.247152  \n",
       "8  0.014952    1.091913       0.522301  0.133592   0.084176    0.260640  \n",
       "9  0.014952    1.216908       0.467617  0.133592   0.178245    0.260640  "
      ]
     },
     "execution_count": 65,
     "metadata": {},
     "output_type": "execute_result"
    }
   ],
   "source": [
    "# Get the rules\n",
    "min_support=0.01\n",
    "freq_itemsets = apriori(pivot_table, min_support=min_support, use_colnames=True)    \n",
    "rules = association_rules(freq_itemsets, metric=\"support\", min_threshold=min_support)    \n",
    "rules.head(10)"
   ]
  },
  {
   "cell_type": "markdown",
   "metadata": {},
   "source": [
    "___\n",
    "### Result preview\n",
    "\n",
    "The table with the association rules was obtained, however, its interpretation is not so straightforward and, therefore, we now intend to make reading the data easier for the user.\n",
    "\n",
    "What is intended here is that given a user input (an attribute), the program returns a set of outputs (attributes) and their probabilities. For example, given that the user wants a coupe-type car, the program should return the set of attributes and their relative probability of occurring together with the initial chosen attribute.\n",
    "\n",
    "To begin, the values of the variables were mapped in order to construct more concrete sentences. Attributing these maps will greatly help the user to understand the output."
   ]
  },
  {
   "cell_type": "code",
   "execution_count": 66,
   "metadata": {},
   "outputs": [],
   "source": [
    "# Mapping the specific characteristics to give better context for the user\n",
    "transmission_mapping = {\n",
    "    'transmission_mechanical': 'manual transmission',\n",
    "    'transmission_automatic': 'automatic transmission'\n",
    "}\n",
    "\n",
    "exchangeable_mapping = {\n",
    "    True: 'exchangeable',\n",
    "    False: 'unexchangeable'\n",
    "}\n",
    "\n",
    "engine_fuel_mapping = {\n",
    "    'engine_fuel_gasoline': 'gasoline fuel',\n",
    "    'engine_fuel_diesel': 'diesel fuel',\n",
    "    'engine_fuel_gas': 'gas fuel',\n",
    "    'engine_fuel_electric': 'a electric batery'\n",
    "}\n",
    "\n",
    "engine_capacity_mapping = {\n",
    "    True: 'engine capacity > 2.5',\n",
    "    False: 'engine capacity <= 2.5'\n",
    "}\n",
    "\n",
    "body_type_mapping = {\n",
    "    'body_type_universal': 'universal body type',\n",
    "    'body_type_suv': 'SUV body type',\n",
    "    'body_type_sedan': 'sedan body type',\n",
    "    'body_type_hatchback': 'hatchback body type',\n",
    "    'body_type_liftback': 'liftback body type',\n",
    "    'body_type_minivan': 'minivan body type',\n",
    "    'body_type_minibus': 'minibus body type',\n",
    "    'body_type_van': 'van body type',\n",
    "    'body_type_pickup': 'pickup body type',\n",
    "    'body_type_coupe': 'coupe body type',\n",
    "    'body_type_cabriolet': 'cabriolet body type',\n",
    "    'body_type_limousine': 'limousine body type'\n",
    "}\n",
    "\n",
    "price_mapping = {\n",
    "    'price_0_1000': 'price between 0 and 1000 USD',\n",
    "    'price_1000_2500': 'price between 1000 and 2500 USD',\n",
    "    'price_2500_5000': 'price between 2500 and 5000 USD',\n",
    "    'price_5000_10000': 'price between 5000 and 10000 USD',\n",
    "    'price_10000_20000': 'price between 10000 and 20000 USD',\n",
    "    'price_>20000': 'price higher than 20000 USD'\n",
    "}"
   ]
  },
  {
   "cell_type": "markdown",
   "metadata": {},
   "source": [
    "After mapping, functions were created that receive user input, traverse the rules table looking for the chosen antecedent and return the elements with the highest probability of occurring."
   ]
  },
  {
   "cell_type": "code",
   "execution_count": 67,
   "metadata": {},
   "outputs": [],
   "source": [
    "# Function that displays on the output the characteristics that are likely to be present on a vehicle based on a sigle chosen characteristic\n",
    "def display_recommendations(associated_characteristics, associated_probabilities, condition_col):\n",
    "\n",
    "    # Checks the chosen characteristic and adds a context text arround it\n",
    "    if condition_col == 'transmission':\n",
    "        print(f'If you want a car with a {transmission_mapping[condition_col]}:')\n",
    "    elif condition_col == 'is_exchangeable':\n",
    "        print(f'If you want a car that is {exchangeable_mapping[True]}:')\n",
    "    elif condition_col == 'engine_fuel':\n",
    "        print(f'If you want a car with {engine_fuel_mapping[condition_col]}:')\n",
    "    elif condition_col == 'engine_capacity':\n",
    "        print(f'If you want a car with {engine_capacity_mapping[True]} L:')\n",
    "    elif condition_col in body_type_mapping:\n",
    "        print(f'If you want a {body_type_mapping[condition_col]}:')\n",
    "    elif condition_col in price_mapping:\n",
    "        print(f'If you want a car with a {price_mapping[condition_col]}:')\n",
    "    else:\n",
    "        print(f'If you want a car with this characteristic: {condition_col}')\n",
    "\n",
    "    # Goes trough the set that contains the associated characteristics and respective probabilities and adds contextual text arround it\n",
    "    for char, prob in zip(associated_characteristics, associated_probabilities):\n",
    "             \n",
    "        if char in transmission_mapping:\n",
    "            print(f'-it will have a {transmission_mapping[char]} with {prob * 100:.2f}% probability.')\n",
    "        elif char == 'is_exchangeable':\n",
    "            print(f'-it will be {exchangeable_mapping[True]} with {prob * 100:.2f}% probability.')\n",
    "        elif char in engine_fuel_mapping:\n",
    "            print(f'-it will have {engine_fuel_mapping[char]} with {prob * 100:.2f}% probability.')\n",
    "        elif char == 'engine_capacity':\n",
    "            print(f'-it will have {engine_capacity_mapping[True]}L with {prob * 100:.2f}% probability.')\n",
    "        elif char in body_type_mapping:\n",
    "            print(f'-it will be a {body_type_mapping[char]} with {prob * 100:.2f}% probability.')\n",
    "        elif char in price_mapping:\n",
    "            print(f'-it will have a {price_mapping[char]} with {prob * 100:.2f}% probability.')\n",
    "        else:\n",
    "            print(f'-Unknown characteristic: {char} with {prob * 100:.2f}% probability.')\n",
    "\n",
    "# Function to get the associated characteristics based on a condition\n",
    "def get_associated_characteristics(rules, condition_col, rec_count):\n",
    "    associated_info = recommend_items(rules, condition_col, rec_count)\n",
    "    \n",
    "    if associated_info:\n",
    "        associated_characteristics, associated_probabilities = zip(*associated_info)\n",
    "        print(f'\\nTarget Characteristic: {condition_col} = True')\n",
    "        print(f'Associated Characteristics: {associated_characteristics}')\n",
    "        print(f'Associated Probabilities: {associated_probabilities}')\n",
    "\n",
    "        print(\" \")\n",
    "        # Call the display_recommendations function\n",
    "        display_recommendations(associated_characteristics, associated_probabilities, condition_col)\n",
    "        \n",
    "    else:\n",
    "        print(f'\\nNo associated characteristics found for the specified characteristic.')\n",
    "\n",
    "# Function for simulating the recommendation process\n",
    "def recommend_items(rules_df, condition_col, rec_count):\n",
    "    # Convert the condition_value to frozenset for comparison\n",
    "    condition_set = frozenset([condition_col])\n",
    "\n",
    "    filtered_rules = rules_df[rules_df['antecedents'].apply(lambda x: condition_set.issubset(x))]\n",
    "\n",
    "    if not filtered_rules.empty:\n",
    "        sorted_rules = filtered_rules.sort_values('confidence', ascending=False)\n",
    "\n",
    "        associated_characteristics = set()\n",
    "        associated_probabilities = []\n",
    "\n",
    "        for _, row in sorted_rules.iterrows():\n",
    "            consequents = list(row['consequents'])\n",
    "            confidence = row['confidence']\n",
    "\n",
    "            # Extract the characteristic and add to the set\n",
    "            for consequent in consequents:\n",
    "                associated_characteristics.add(consequent)\n",
    "                associated_probabilities.append(confidence)\n",
    "\n",
    "                # Break if we reach the desired number of recommendations\n",
    "                if len(associated_characteristics) >= rec_count:\n",
    "                    # Convert set to list for consistent output\n",
    "                    return list(zip(list(associated_characteristics), associated_probabilities))\n",
    "\n",
    "        # Convert set to list for consistent output\n",
    "        return list(zip(list(associated_characteristics), associated_probabilities))\n",
    "    else:\n",
    "        return []"
   ]
  },
  {
   "cell_type": "markdown",
   "metadata": {},
   "source": [
    "Below are two brief examples of using the function. As a first parameter, the table of association rules is defined, then the desired characteristic for the car you want to buy is indicated and finally the number of attributes that the function must provide for the user to choose from is indicated."
   ]
  },
  {
   "cell_type": "code",
   "execution_count": 68,
   "metadata": {},
   "outputs": [
    {
     "name": "stdout",
     "output_type": "stream",
     "text": [
      "\n",
      "Target Characteristic: engine_capacity = True\n",
      "Associated Characteristics: ('body_type_suv', 'engine_fuel_gasoline', 'transmission_automatic')\n",
      "Associated Probabilities: (0.9833333333333333, 0.9676258992805756, 0.9636752136752136)\n",
      " \n",
      "If you want a car with engine capacity > 2.5 L:\n",
      "-it will be a SUV body type with 98.33% probability.\n",
      "-it will have gasoline fuel with 96.76% probability.\n",
      "-it will have a automatic transmission with 96.37% probability.\n"
     ]
    }
   ],
   "source": [
    "# Example usage\n",
    "get_associated_characteristics(rules=rules, condition_col='engine_capacity', rec_count=3)"
   ]
  },
  {
   "cell_type": "code",
   "execution_count": 69,
   "metadata": {},
   "outputs": [
    {
     "name": "stdout",
     "output_type": "stream",
     "text": [
      "\n",
      "Target Characteristic: body_type_suv = True\n",
      "Associated Characteristics: ('engine_capacity', 'engine_fuel_gasoline', 'transmission_automatic', 'price_10000_20000')\n",
      "Associated Probabilities: (0.9833333333333333, 0.9676258992805756, 0.9636752136752136, 0.9548218940052128)\n",
      " \n",
      "If you want a SUV body type:\n",
      "-it will have engine capacity > 2.5L with 98.33% probability.\n",
      "-it will have gasoline fuel with 96.76% probability.\n",
      "-it will have a automatic transmission with 96.37% probability.\n",
      "-it will have a price between 10000 and 20000 USD with 95.48% probability.\n"
     ]
    }
   ],
   "source": [
    "get_associated_characteristics(rules, 'body_type_suv', 4)"
   ]
  },
  {
   "cell_type": "markdown",
   "metadata": {},
   "source": [
    "___\n",
    "## Conclusion of problem 2\n",
    "\n",
    "It can be concluded for this problem that the use of association rules and the Apriori algorithm is quite easy and intuitive. Data preparation turns out to be the most demanding phase of this problem and therefore it is very important to ensure that the data is well organized and adapted to the problem.\n",
    "\n",
    "The way of obtaining the results appears to be a very interesting way of providing the necessary information. A better interface could easily utilize these functions and adapt a more visually pleasing result.\n",
    "\n",
    "In general, this problem allowed us to deepen our knowledge about this part of unsupervised learning and once again this practice appears to be a very solid basis for future projects related to machine learning."
   ]
  },
  {
   "cell_type": "markdown",
   "metadata": {},
   "source": [
    "___\n",
    "## Completion of unsupervised learning\n",
    "\n",
    "To conclude this topic, unsupervised machine learning is a very interesting topic with well-defined real applications. This variant of *machine learning* is an approach that is not as demanding as, for example, neural networks, but can also establish relationships between data automatically.\n",
    "\n",
    "Using these algorithms makes it possible to find patterns in data that would otherwise be undetectable or very difficult to identify in another way. Essentially being programs, they can run on different machines and maintain a real-time update of databases that are obviously always changing.\n",
    "\n",
    "Imagine, in the context of the database that was used, a car sales website that intends to maintain consumer aids such as those presented in this simple practice. It is possible to keep these algorithms running on servers for similar databases that update every moment.\n",
    "\n",
    "The application presented allowed us to deepen our knowledge on this topic and will, without a doubt, be an added value for future projects. These algorithms could prove to be very useful in data processing or in the construction of complex databases. The scale of the problem can be easily increased or differentiated and there will not be much difficulty in applying the association rules and clustering algorithms."
   ]
  }
 ],
 "metadata": {
  "kaggle": {
   "accelerator": "none",
   "dataSources": [
    {
     "datasetId": 3786485,
     "sourceId": 6552418,
     "sourceType": "datasetVersion"
    }
   ],
   "dockerImageVersionId": 30626,
   "isGpuEnabled": false,
   "isInternetEnabled": false,
   "language": "python",
   "sourceType": "notebook"
  },
  "kernelspec": {
   "display_name": "Python 3 (ipykernel)",
   "language": "python",
   "name": "python3"
  },
  "language_info": {
   "codemirror_mode": {
    "name": "ipython",
    "version": 3
   },
   "file_extension": ".py",
   "mimetype": "text/x-python",
   "name": "python",
   "nbconvert_exporter": "python",
   "pygments_lexer": "ipython3",
   "version": "3.9.12"
  },
  "vscode": {
   "interpreter": {
    "hash": "607079afe3a2a2d35ed9965cd3a5fc45cd7e1ba906577a56395d9b6815374bc5"
   }
  }
 },
 "nbformat": 4,
 "nbformat_minor": 4
}
